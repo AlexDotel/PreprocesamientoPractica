{
  "cells": [
    {
      "cell_type": "markdown",
      "metadata": {
        "id": "XXYzMwYH4RKh"
      },
      "source": [
        "# Ejercicio 1\n",
        "Utiliza el conjunto de datos adult.csv y ejecuta los códigos que se muestran en las siguientes capturas de pantalla. Luego responde las preguntas."
      ]
    },
    {
      "cell_type": "code",
      "execution_count": null,
      "metadata": {
        "id": "cOBlQn6e4RKi",
        "outputId": "e55b54aa-6279-4738-ea4b-dc2478185614"
      },
      "outputs": [
        {
          "name": "stdout",
          "output_type": "stream",
          "text": [
            "       age workclass\n",
            "10005   37   Private\n",
            "10006   49   Private\n",
            "       age         workclass  fnlwgt\n",
            "10005   37           Private  284582\n",
            "10006   49           Private  160187\n",
            "10007   52  Self-emp-not-inc  209642\n"
          ]
        },
        {
          "data": {
            "text/html": [
              "<div>\n",
              "<style scoped>\n",
              "    .dataframe tbody tr th:only-of-type {\n",
              "        vertical-align: middle;\n",
              "    }\n",
              "\n",
              "    .dataframe tbody tr th {\n",
              "        vertical-align: top;\n",
              "    }\n",
              "\n",
              "    .dataframe thead th {\n",
              "        text-align: right;\n",
              "    }\n",
              "</style>\n",
              "<table border=\"1\" class=\"dataframe\">\n",
              "  <thead>\n",
              "    <tr style=\"text-align: right;\">\n",
              "      <th></th>\n",
              "      <th>age</th>\n",
              "      <th>workclass</th>\n",
              "      <th>fnlwgt</th>\n",
              "      <th>education</th>\n",
              "      <th>education-num</th>\n",
              "      <th>marital-status</th>\n",
              "      <th>occupation</th>\n",
              "      <th>relationship</th>\n",
              "      <th>race</th>\n",
              "      <th>sex</th>\n",
              "      <th>capitalGain</th>\n",
              "      <th>capitalLoss</th>\n",
              "      <th>hoursPerWeek</th>\n",
              "      <th>nativeCountry</th>\n",
              "      <th>income</th>\n",
              "    </tr>\n",
              "  </thead>\n",
              "  <tbody>\n",
              "    <tr>\n",
              "      <th>10000</th>\n",
              "      <td>39</td>\n",
              "      <td>State-gov</td>\n",
              "      <td>77516</td>\n",
              "      <td>Bachelors</td>\n",
              "      <td>13</td>\n",
              "      <td>Never-married</td>\n",
              "      <td>Adm-clerical</td>\n",
              "      <td>Not-in-family</td>\n",
              "      <td>White</td>\n",
              "      <td>Male</td>\n",
              "      <td>2174</td>\n",
              "      <td>0</td>\n",
              "      <td>40</td>\n",
              "      <td>United-States</td>\n",
              "      <td>&lt;=50K</td>\n",
              "    </tr>\n",
              "    <tr>\n",
              "      <th>10001</th>\n",
              "      <td>50</td>\n",
              "      <td>Self-emp-not-inc</td>\n",
              "      <td>83311</td>\n",
              "      <td>Bachelors</td>\n",
              "      <td>13</td>\n",
              "      <td>Married-civ-spouse</td>\n",
              "      <td>Exec-managerial</td>\n",
              "      <td>Husband</td>\n",
              "      <td>White</td>\n",
              "      <td>Male</td>\n",
              "      <td>0</td>\n",
              "      <td>0</td>\n",
              "      <td>13</td>\n",
              "      <td>United-States</td>\n",
              "      <td>&lt;=50K</td>\n",
              "    </tr>\n",
              "    <tr>\n",
              "      <th>10002</th>\n",
              "      <td>38</td>\n",
              "      <td>Private</td>\n",
              "      <td>215646</td>\n",
              "      <td>HS-grad</td>\n",
              "      <td>9</td>\n",
              "      <td>Divorced</td>\n",
              "      <td>Handlers-cleaners</td>\n",
              "      <td>Not-in-family</td>\n",
              "      <td>White</td>\n",
              "      <td>Male</td>\n",
              "      <td>0</td>\n",
              "      <td>0</td>\n",
              "      <td>40</td>\n",
              "      <td>United-States</td>\n",
              "      <td>&lt;=50K</td>\n",
              "    </tr>\n",
              "    <tr>\n",
              "      <th>10003</th>\n",
              "      <td>53</td>\n",
              "      <td>Private</td>\n",
              "      <td>234721</td>\n",
              "      <td>11th</td>\n",
              "      <td>7</td>\n",
              "      <td>Married-civ-spouse</td>\n",
              "      <td>Handlers-cleaners</td>\n",
              "      <td>Husband</td>\n",
              "      <td>Black</td>\n",
              "      <td>Male</td>\n",
              "      <td>0</td>\n",
              "      <td>0</td>\n",
              "      <td>40</td>\n",
              "      <td>United-States</td>\n",
              "      <td>&lt;=50K</td>\n",
              "    </tr>\n",
              "    <tr>\n",
              "      <th>10004</th>\n",
              "      <td>28</td>\n",
              "      <td>Private</td>\n",
              "      <td>338409</td>\n",
              "      <td>Bachelors</td>\n",
              "      <td>13</td>\n",
              "      <td>Married-civ-spouse</td>\n",
              "      <td>Prof-specialty</td>\n",
              "      <td>Wife</td>\n",
              "      <td>Black</td>\n",
              "      <td>Female</td>\n",
              "      <td>0</td>\n",
              "      <td>0</td>\n",
              "      <td>40</td>\n",
              "      <td>Cuba</td>\n",
              "      <td>&lt;=50K</td>\n",
              "    </tr>\n",
              "    <tr>\n",
              "      <th>...</th>\n",
              "      <td>...</td>\n",
              "      <td>...</td>\n",
              "      <td>...</td>\n",
              "      <td>...</td>\n",
              "      <td>...</td>\n",
              "      <td>...</td>\n",
              "      <td>...</td>\n",
              "      <td>...</td>\n",
              "      <td>...</td>\n",
              "      <td>...</td>\n",
              "      <td>...</td>\n",
              "      <td>...</td>\n",
              "      <td>...</td>\n",
              "      <td>...</td>\n",
              "      <td>...</td>\n",
              "    </tr>\n",
              "    <tr>\n",
              "      <th>42556</th>\n",
              "      <td>27</td>\n",
              "      <td>Private</td>\n",
              "      <td>257302</td>\n",
              "      <td>Assoc-acdm</td>\n",
              "      <td>12</td>\n",
              "      <td>Married-civ-spouse</td>\n",
              "      <td>Tech-support</td>\n",
              "      <td>Wife</td>\n",
              "      <td>White</td>\n",
              "      <td>Female</td>\n",
              "      <td>0</td>\n",
              "      <td>0</td>\n",
              "      <td>38</td>\n",
              "      <td>United-States</td>\n",
              "      <td>&lt;=50K</td>\n",
              "    </tr>\n",
              "    <tr>\n",
              "      <th>42557</th>\n",
              "      <td>40</td>\n",
              "      <td>Private</td>\n",
              "      <td>154374</td>\n",
              "      <td>HS-grad</td>\n",
              "      <td>9</td>\n",
              "      <td>Married-civ-spouse</td>\n",
              "      <td>Machine-op-inspct</td>\n",
              "      <td>Husband</td>\n",
              "      <td>White</td>\n",
              "      <td>Male</td>\n",
              "      <td>0</td>\n",
              "      <td>0</td>\n",
              "      <td>40</td>\n",
              "      <td>United-States</td>\n",
              "      <td>&gt;50K</td>\n",
              "    </tr>\n",
              "    <tr>\n",
              "      <th>42558</th>\n",
              "      <td>58</td>\n",
              "      <td>Private</td>\n",
              "      <td>151910</td>\n",
              "      <td>HS-grad</td>\n",
              "      <td>9</td>\n",
              "      <td>Widowed</td>\n",
              "      <td>Adm-clerical</td>\n",
              "      <td>Unmarried</td>\n",
              "      <td>White</td>\n",
              "      <td>Female</td>\n",
              "      <td>0</td>\n",
              "      <td>0</td>\n",
              "      <td>40</td>\n",
              "      <td>United-States</td>\n",
              "      <td>&lt;=50K</td>\n",
              "    </tr>\n",
              "    <tr>\n",
              "      <th>42559</th>\n",
              "      <td>22</td>\n",
              "      <td>Private</td>\n",
              "      <td>201490</td>\n",
              "      <td>HS-grad</td>\n",
              "      <td>9</td>\n",
              "      <td>Never-married</td>\n",
              "      <td>Adm-clerical</td>\n",
              "      <td>Own-child</td>\n",
              "      <td>White</td>\n",
              "      <td>Male</td>\n",
              "      <td>0</td>\n",
              "      <td>0</td>\n",
              "      <td>20</td>\n",
              "      <td>United-States</td>\n",
              "      <td>&lt;=50K</td>\n",
              "    </tr>\n",
              "    <tr>\n",
              "      <th>42560</th>\n",
              "      <td>52</td>\n",
              "      <td>Self-emp-inc</td>\n",
              "      <td>287927</td>\n",
              "      <td>HS-grad</td>\n",
              "      <td>9</td>\n",
              "      <td>Married-civ-spouse</td>\n",
              "      <td>Exec-managerial</td>\n",
              "      <td>Wife</td>\n",
              "      <td>White</td>\n",
              "      <td>Female</td>\n",
              "      <td>15024</td>\n",
              "      <td>0</td>\n",
              "      <td>40</td>\n",
              "      <td>United-States</td>\n",
              "      <td>&gt;50K</td>\n",
              "    </tr>\n",
              "  </tbody>\n",
              "</table>\n",
              "<p>32561 rows × 15 columns</p>\n",
              "</div>"
            ],
            "text/plain": [
              "       age         workclass  fnlwgt   education  education-num  \\\n",
              "10000   39         State-gov   77516   Bachelors             13   \n",
              "10001   50  Self-emp-not-inc   83311   Bachelors             13   \n",
              "10002   38           Private  215646     HS-grad              9   \n",
              "10003   53           Private  234721        11th              7   \n",
              "10004   28           Private  338409   Bachelors             13   \n",
              "...    ...               ...     ...         ...            ...   \n",
              "42556   27           Private  257302  Assoc-acdm             12   \n",
              "42557   40           Private  154374     HS-grad              9   \n",
              "42558   58           Private  151910     HS-grad              9   \n",
              "42559   22           Private  201490     HS-grad              9   \n",
              "42560   52      Self-emp-inc  287927     HS-grad              9   \n",
              "\n",
              "           marital-status         occupation   relationship   race     sex  \\\n",
              "10000       Never-married       Adm-clerical  Not-in-family  White    Male   \n",
              "10001  Married-civ-spouse    Exec-managerial        Husband  White    Male   \n",
              "10002            Divorced  Handlers-cleaners  Not-in-family  White    Male   \n",
              "10003  Married-civ-spouse  Handlers-cleaners        Husband  Black    Male   \n",
              "10004  Married-civ-spouse     Prof-specialty           Wife  Black  Female   \n",
              "...                   ...                ...            ...    ...     ...   \n",
              "42556  Married-civ-spouse       Tech-support           Wife  White  Female   \n",
              "42557  Married-civ-spouse  Machine-op-inspct        Husband  White    Male   \n",
              "42558             Widowed       Adm-clerical      Unmarried  White  Female   \n",
              "42559       Never-married       Adm-clerical      Own-child  White    Male   \n",
              "42560  Married-civ-spouse    Exec-managerial           Wife  White  Female   \n",
              "\n",
              "       capitalGain  capitalLoss  hoursPerWeek  nativeCountry income  \n",
              "10000         2174            0            40  United-States  <=50K  \n",
              "10001            0            0            13  United-States  <=50K  \n",
              "10002            0            0            40  United-States  <=50K  \n",
              "10003            0            0            40  United-States  <=50K  \n",
              "10004            0            0            40           Cuba  <=50K  \n",
              "...            ...          ...           ...            ...    ...  \n",
              "42556            0            0            38  United-States  <=50K  \n",
              "42557            0            0            40  United-States   >50K  \n",
              "42558            0            0            40  United-States  <=50K  \n",
              "42559            0            0            20  United-States  <=50K  \n",
              "42560        15024            0            40  United-States   >50K  \n",
              "\n",
              "[32561 rows x 15 columns]"
            ]
          },
          "execution_count": 9,
          "metadata": {},
          "output_type": "execute_result"
        }
      ],
      "source": [
        "import pandas as pd\n",
        "import numpy as np\n",
        "adult_df = pd.read_csv('adult.csv')\n",
        "adult_df.set_index(np.arange(10000,42561),inplace=True)\n",
        "\n",
        "\n",
        "print(adult_df.iloc[5:7,0:2])\n",
        "\n",
        "print(adult_df.loc['10005':'10007','age':'fnlwgt'])\n",
        "\n",
        "adult_df"
      ]
    },
    {
      "cell_type": "markdown",
      "metadata": {
        "id": "zvYVMx0b4RKk"
      },
      "source": [
        "- Utiliza la salida para responder cuál es la diferencia en el comportamiento de .loc e .iloc cuando se trata de cortar.\n",
        "\n",
        "- Sin ejecutar, pero solo mirando los datos, ¿cuál será la salida de adult_df.loc['10000':'10003', 'relationship':'sex']?\n",
        "\n",
        "- Sin ejecutar, pero solo mirando los datos, ¿cuál será la salida de adult_df.iloc[0:3, 7:9]?\n",
        "\n"
      ]
    },
    {
      "cell_type": "code",
      "execution_count": 16,
      "metadata": {
        "id": "Ed-L6ztk4RKk"
      },
      "outputs": [],
      "source": [
        "#Loc incluye el ultimo indice, iloc no, ademas loc se llama con el nombre de la etiqueta, a diferencia de iloc, y loc soporta condiciones booleanas o de verdadero o falso, iloc no.\n",
        "\n",
        "#Salida loc ↓\n",
        "#         relationship\trace\tsex\n",
        "# 10000\tNot-in-family\tWhite\tMale\n",
        "# 10001\tHusband\t        White\tMale\n",
        "# 10002\tNot-in-family\tWhite\tMale\n",
        "# 10003\tHusband\t        Black\tMale\n",
        "\n",
        "#Salida iloc ↓\n",
        "#         relationship\trace\t\n",
        "# 10000\tNot-in-family\tWhite\t\n",
        "# 10001\tHusband\t        White\t\n",
        "# 10002\tNot-in-family\tWhite\t"
      ]
    },
    {
      "cell_type": "markdown",
      "metadata": {
        "id": "AXfFrM5R4RKl"
      },
      "source": [
        "# Ejercicio 2\n",
        "Para adult_df usa la función .groupby() para ejecutar el siguiente código y crear la serie de índices múltiples mlt_sr."
      ]
    },
    {
      "cell_type": "code",
      "execution_count": 20,
      "metadata": {
        "id": "0SK7cD6h4RKl",
        "outputId": "c1025f2d-d12e-43a2-aa77-9b43551c25c7"
      },
      "outputs": [
        {
          "data": {
            "text/plain": [
              "race                sex     income\n",
              "Amer-Indian-Eskimo  Female  <=50K     109018.626168\n",
              "                            >50K      148012.000000\n",
              "                    Male    <=50K     126428.767857\n",
              "                            >50K      120721.541667\n",
              "Asian-Pac-Islander  Female  <=50K     148165.333333\n",
              "                            >50K      142426.093023\n",
              "                    Male    <=50K     163885.130435\n",
              "                            >50K      170698.347639\n",
              "Black               Female  <=50K     213411.580205\n",
              "                            >50K      205806.033333\n",
              "                    Male    <=50K     242343.990566\n",
              "                            >50K      245390.356902\n",
              "Other               Female  <=50K     173235.932039\n",
              "                            >50K      160223.333333\n",
              "                    Male    <=50K     214891.832168\n",
              "                            >50K      204551.736842\n",
              "White               Female  <=50K     183485.120961\n",
              "                            >50K      184030.255837\n",
              "                    Male    <=50K     189950.465418\n",
              "                            >50K      186917.770077\n",
              "Name: fnlwgt, dtype: float64"
            ]
          },
          "execution_count": 20,
          "metadata": {},
          "output_type": "execute_result"
        }
      ],
      "source": [
        "import pandas as pd\n",
        "\n",
        "adult_df = pd.read_csv('adult.csv')\n",
        "mlt_seris =adult_df.groupby(['race','sex','income']).fnlwgt.mean()\n",
        "mlt_seris"
      ]
    },
    {
      "cell_type": "markdown",
      "metadata": {
        "id": "GDIW5dy14RKm"
      },
      "source": [
        "Ahora que has creado una serie de índices múltiples, ejecuta los siguientes códigos, estudia las salidas y responde las preguntas.\n",
        "\n",
        "- Ejecuta el código a continuación primero y luego responde lo siguiente. Cuando usamos .iloc[] para una serie o DataFrame de índices múltiples, ¿qué deberíamos esperar?"
      ]
    },
    {
      "cell_type": "code",
      "execution_count": 21,
      "metadata": {
        "id": "EYSdKuKN4RKn",
        "outputId": "a94c4abf-22dd-4869-a93b-d768bfb0b572"
      },
      "outputs": [
        {
          "name": "stdout",
          "output_type": "stream",
          "text": [
            "109018.6261682243\n",
            "148012.0\n",
            "126428.76785714286\n"
          ]
        }
      ],
      "source": [
        "print(mlt_seris.iloc[0])\n",
        "print(mlt_seris.iloc[1])\n",
        "print(mlt_seris.iloc[2])"
      ]
    },
    {
      "cell_type": "code",
      "execution_count": null,
      "metadata": {
        "id": "rSv46M8_4RKp"
      },
      "outputs": [
        {
          "name": "stdout",
          "output_type": "stream",
          "text": [
            "<class 'numpy.float64'>\n"
          ]
        }
      ],
      "source": [
        "# El resultado o valor de la serie. En este caso la media de la columna fnlwgt, que son floats."
      ]
    },
    {
      "cell_type": "markdown",
      "metadata": {
        "id": "JSvgKkW44RKq"
      },
      "source": [
        "- Ejecuta el código a continuación primero y luego responde lo siguiente. Cuando usamos .loc[] para acceder a los datos de uno de los niveles de índice más internos de la serie de índices múltiples, ¿qué deberíamos esperar?\n",
        "\n"
      ]
    },
    {
      "cell_type": "code",
      "execution_count": null,
      "metadata": {
        "id": "c_S7G0Mv4RKq",
        "outputId": "05e49f60-fdb8-4086-8157-6cb0ec45881e"
      },
      "outputs": [
        {
          "name": "stdout",
          "output_type": "stream",
          "text": [
            "<class 'pandas.core.series.Series'>\n"
          ]
        }
      ],
      "source": [
        "mlt_seris.loc['Other']"
      ]
    },
    {
      "cell_type": "code",
      "execution_count": null,
      "metadata": {
        "id": "OfNQ2DPN4RKr"
      },
      "outputs": [],
      "source": [
        "# La serie o subserie resultante, incluyendo los sub indices de other en este caso."
      ]
    },
    {
      "cell_type": "markdown",
      "metadata": {
        "id": "YM0mJXJJ4RKr"
      },
      "source": [
        "- Ejecuta los códigos a continuación primero y luego responde lo siguiente. Cuando usamos .loc[] para acceder a los datos de uno de los niveles de índice no más internos de la serie de índices múltiples, ¿qué deberíamos esperar?\n",
        "\n",
        "Cuando ejecutes cualquiera de las líneas de código a continuación, obtendrás un error y ese es el punto de esta pregunta. Estudia el error e intenta responder la pregunta."
      ]
    },
    {
      "cell_type": "code",
      "execution_count": null,
      "metadata": {
        "id": "k7x-bWm-4RKr"
      },
      "outputs": [
        {
          "data": {
            "text/plain": [
              "race                income\n",
              "Amer-Indian-Eskimo  <=50K     109018.626168\n",
              "                    >50K      148012.000000\n",
              "Asian-Pac-Islander  <=50K     148165.333333\n",
              "                    >50K      142426.093023\n",
              "Black               <=50K     213411.580205\n",
              "                    >50K      205806.033333\n",
              "Other               <=50K     173235.932039\n",
              "                    >50K      160223.333333\n",
              "White               <=50K     183485.120961\n",
              "                    >50K      184030.255837\n",
              "Name: fnlwgt, dtype: float64"
            ]
          },
          "execution_count": 33,
          "metadata": {},
          "output_type": "execute_result"
        }
      ],
      "source": [
        "mlt_seris.loc[:,'Female'] \n",
        "#Da error porque 'Female' no es un indice, sino un subindice de la serie. \n",
        "# hay que especificar los indices anteriores para acceder a los subindices."
      ]
    },
    {
      "cell_type": "code",
      "execution_count": null,
      "metadata": {
        "id": "JrNvTIwb4RKs"
      },
      "outputs": [
        {
          "data": {
            "text/plain": [
              "213411.58020477815"
            ]
          },
          "execution_count": 47,
          "metadata": {},
          "output_type": "execute_result"
        }
      ],
      "source": [
        "mlt_seris.loc[('Black', 'Female', '<=50K')]\n",
        "#Lo mismo pero en este caso al ser de 3er nivel, hay que nombrar cada uno de los indices\n",
        "# anteriores, en este caso 'Black' y Female, como si de una ruta se tratase."
      ]
    },
    {
      "cell_type": "markdown",
      "metadata": {
        "id": "TI3d03cb4RKs"
      },
      "source": [
        "- Ejecuta los códigos a continuación primero y luego responde lo siguiente. ¿En qué se diferencia el uso de .loc[] o .iloc[] cuando se trabaja con una serie de índices múltiples o un DataFrame?\n",
        "\n"
      ]
    },
    {
      "cell_type": "code",
      "execution_count": 52,
      "metadata": {
        "id": "oA-WlIRs4RKs",
        "outputId": "b3cf0bc9-271a-4fb9-8458-eee0bcbb148f"
      },
      "outputs": [
        {
          "name": "stdout",
          "output_type": "stream",
          "text": [
            "173235.93203883496\n",
            "173235.93203883496\n"
          ]
        },
        {
          "data": {
            "text/plain": [
              "race                sex     income\n",
              "Amer-Indian-Eskimo  Female  <=50K     109018.626168\n",
              "                            >50K      148012.000000\n",
              "                    Male    <=50K     126428.767857\n",
              "                            >50K      120721.541667\n",
              "Asian-Pac-Islander  Female  <=50K     148165.333333\n",
              "                            >50K      142426.093023\n",
              "                    Male    <=50K     163885.130435\n",
              "                            >50K      170698.347639\n",
              "Black               Female  <=50K     213411.580205\n",
              "                            >50K      205806.033333\n",
              "                    Male    <=50K     242343.990566\n",
              "                            >50K      245390.356902\n",
              "Other               Female  <=50K     173235.932039\n",
              "                            >50K      160223.333333\n",
              "                    Male    <=50K     214891.832168\n",
              "                            >50K      204551.736842\n",
              "White               Female  <=50K     183485.120961\n",
              "                            >50K      184030.255837\n",
              "                    Male    <=50K     189950.465418\n",
              "                            >50K      186917.770077\n",
              "Name: fnlwgt, dtype: float64"
            ]
          },
          "execution_count": 52,
          "metadata": {},
          "output_type": "execute_result"
        }
      ],
      "source": [
        "print(mlt_seris.loc['Other']['Female']['<=50K'])\n",
        "print(mlt_seris.iloc[12])\n",
        "mlt_seris"
      ]
    },
    {
      "cell_type": "code",
      "execution_count": null,
      "metadata": {
        "id": "kXrjt5KZ4RKt"
      },
      "outputs": [],
      "source": [
        "# Entiendo que loc accede a los valores a traves de los indices como una ruta jerarquica.\n",
        "# Mientras que iloc accede a los valores a traves de la posicion numerica de los indices.\n",
        "# Por lo tanto, loc es mas flexible y permite acceder a los valores de una manera mas intuitiva PARA MI."
      ]
    },
    {
      "cell_type": "markdown",
      "metadata": {
        "id": "QOcGBf2R4RKt"
      },
      "source": [
        "# Ejercicio 3\n",
        "Para este ejercicio, debe utilizar un nuevo conjunto de datos: billboard.csv. Visite https://www.billboard.com/charts/hot-100 y vea las clasificaciones de canciones más recientes del día. Este conjunto de datos presenta información y clasificación de 317 pistas de canciones en 80 columnas. Las primeras cuatro columnas son artista, pista, hora y date_e. Las primeras columnas son descripciones intuitivas de las pistas de canciones. La columna date_e muestra la fecha en que las canciones ingresaron a la lista hot-100. Las 76 columnas restantes son las clasificaciones de canciones al final de cada semana desde 'w1' hasta 'w76'. Descargue y lea este conjunto de datos con pandas y responda las siguientes preguntas."
      ]
    },
    {
      "cell_type": "code",
      "execution_count": 117,
      "metadata": {
        "id": "JTOV0AbI4RKt"
      },
      "outputs": [
        {
          "data": {
            "text/html": [
              "<div>\n",
              "<style scoped>\n",
              "    .dataframe tbody tr th:only-of-type {\n",
              "        vertical-align: middle;\n",
              "    }\n",
              "\n",
              "    .dataframe tbody tr th {\n",
              "        vertical-align: top;\n",
              "    }\n",
              "\n",
              "    .dataframe thead th {\n",
              "        text-align: right;\n",
              "    }\n",
              "</style>\n",
              "<table border=\"1\" class=\"dataframe\">\n",
              "  <thead>\n",
              "    <tr style=\"text-align: right;\">\n",
              "      <th></th>\n",
              "      <th>artist</th>\n",
              "      <th>track</th>\n",
              "      <th>time</th>\n",
              "      <th>date_e</th>\n",
              "      <th>w1</th>\n",
              "      <th>w2</th>\n",
              "      <th>w3</th>\n",
              "      <th>w4</th>\n",
              "      <th>w5</th>\n",
              "      <th>w6</th>\n",
              "      <th>...</th>\n",
              "      <th>w67</th>\n",
              "      <th>w68</th>\n",
              "      <th>w69</th>\n",
              "      <th>w70</th>\n",
              "      <th>w71</th>\n",
              "      <th>w72</th>\n",
              "      <th>w73</th>\n",
              "      <th>w74</th>\n",
              "      <th>w75</th>\n",
              "      <th>w76</th>\n",
              "    </tr>\n",
              "  </thead>\n",
              "  <tbody>\n",
              "    <tr>\n",
              "      <th>0</th>\n",
              "      <td>Destiny's Child</td>\n",
              "      <td>Independent Women Part I</td>\n",
              "      <td>3:38</td>\n",
              "      <td>2000-09-23</td>\n",
              "      <td>78</td>\n",
              "      <td>63.0</td>\n",
              "      <td>49.0</td>\n",
              "      <td>33.0</td>\n",
              "      <td>23.0</td>\n",
              "      <td>15.0</td>\n",
              "      <td>...</td>\n",
              "      <td>NaN</td>\n",
              "      <td>NaN</td>\n",
              "      <td>NaN</td>\n",
              "      <td>NaN</td>\n",
              "      <td>NaN</td>\n",
              "      <td>NaN</td>\n",
              "      <td>NaN</td>\n",
              "      <td>NaN</td>\n",
              "      <td>NaN</td>\n",
              "      <td>NaN</td>\n",
              "    </tr>\n",
              "    <tr>\n",
              "      <th>1</th>\n",
              "      <td>Santana</td>\n",
              "      <td>Maria, Maria</td>\n",
              "      <td>4:18</td>\n",
              "      <td>2000-02-12</td>\n",
              "      <td>15</td>\n",
              "      <td>8.0</td>\n",
              "      <td>6.0</td>\n",
              "      <td>5.0</td>\n",
              "      <td>2.0</td>\n",
              "      <td>3.0</td>\n",
              "      <td>...</td>\n",
              "      <td>NaN</td>\n",
              "      <td>NaN</td>\n",
              "      <td>NaN</td>\n",
              "      <td>NaN</td>\n",
              "      <td>NaN</td>\n",
              "      <td>NaN</td>\n",
              "      <td>NaN</td>\n",
              "      <td>NaN</td>\n",
              "      <td>NaN</td>\n",
              "      <td>NaN</td>\n",
              "    </tr>\n",
              "    <tr>\n",
              "      <th>2</th>\n",
              "      <td>Savage Garden</td>\n",
              "      <td>I Knew I Loved You</td>\n",
              "      <td>4:07</td>\n",
              "      <td>1999-10-23</td>\n",
              "      <td>71</td>\n",
              "      <td>48.0</td>\n",
              "      <td>43.0</td>\n",
              "      <td>31.0</td>\n",
              "      <td>20.0</td>\n",
              "      <td>13.0</td>\n",
              "      <td>...</td>\n",
              "      <td>NaN</td>\n",
              "      <td>NaN</td>\n",
              "      <td>NaN</td>\n",
              "      <td>NaN</td>\n",
              "      <td>NaN</td>\n",
              "      <td>NaN</td>\n",
              "      <td>NaN</td>\n",
              "      <td>NaN</td>\n",
              "      <td>NaN</td>\n",
              "      <td>NaN</td>\n",
              "    </tr>\n",
              "    <tr>\n",
              "      <th>3</th>\n",
              "      <td>Madonna</td>\n",
              "      <td>Music</td>\n",
              "      <td>3:45</td>\n",
              "      <td>2000-08-12</td>\n",
              "      <td>41</td>\n",
              "      <td>23.0</td>\n",
              "      <td>18.0</td>\n",
              "      <td>14.0</td>\n",
              "      <td>2.0</td>\n",
              "      <td>1.0</td>\n",
              "      <td>...</td>\n",
              "      <td>NaN</td>\n",
              "      <td>NaN</td>\n",
              "      <td>NaN</td>\n",
              "      <td>NaN</td>\n",
              "      <td>NaN</td>\n",
              "      <td>NaN</td>\n",
              "      <td>NaN</td>\n",
              "      <td>NaN</td>\n",
              "      <td>NaN</td>\n",
              "      <td>NaN</td>\n",
              "    </tr>\n",
              "    <tr>\n",
              "      <th>4</th>\n",
              "      <td>Aguilera, Christina</td>\n",
              "      <td>Come On Over Baby (All I Want Is You)</td>\n",
              "      <td>3:38</td>\n",
              "      <td>2000-08-05</td>\n",
              "      <td>57</td>\n",
              "      <td>47.0</td>\n",
              "      <td>45.0</td>\n",
              "      <td>29.0</td>\n",
              "      <td>23.0</td>\n",
              "      <td>18.0</td>\n",
              "      <td>...</td>\n",
              "      <td>NaN</td>\n",
              "      <td>NaN</td>\n",
              "      <td>NaN</td>\n",
              "      <td>NaN</td>\n",
              "      <td>NaN</td>\n",
              "      <td>NaN</td>\n",
              "      <td>NaN</td>\n",
              "      <td>NaN</td>\n",
              "      <td>NaN</td>\n",
              "      <td>NaN</td>\n",
              "    </tr>\n",
              "  </tbody>\n",
              "</table>\n",
              "<p>5 rows × 80 columns</p>\n",
              "</div>"
            ],
            "text/plain": [
              "                artist                                  track  time  \\\n",
              "0      Destiny's Child               Independent Women Part I  3:38   \n",
              "1              Santana                           Maria, Maria  4:18   \n",
              "2        Savage Garden                     I Knew I Loved You  4:07   \n",
              "3              Madonna                                  Music  3:45   \n",
              "4  Aguilera, Christina  Come On Over Baby (All I Want Is You)  3:38   \n",
              "\n",
              "       date_e  w1    w2    w3    w4    w5    w6  ...  w67  w68  w69  w70  w71  \\\n",
              "0  2000-09-23  78  63.0  49.0  33.0  23.0  15.0  ...  NaN  NaN  NaN  NaN  NaN   \n",
              "1  2000-02-12  15   8.0   6.0   5.0   2.0   3.0  ...  NaN  NaN  NaN  NaN  NaN   \n",
              "2  1999-10-23  71  48.0  43.0  31.0  20.0  13.0  ...  NaN  NaN  NaN  NaN  NaN   \n",
              "3  2000-08-12  41  23.0  18.0  14.0   2.0   1.0  ...  NaN  NaN  NaN  NaN  NaN   \n",
              "4  2000-08-05  57  47.0  45.0  29.0  23.0  18.0  ...  NaN  NaN  NaN  NaN  NaN   \n",
              "\n",
              "   w72  w73  w74  w75  w76  \n",
              "0  NaN  NaN  NaN  NaN  NaN  \n",
              "1  NaN  NaN  NaN  NaN  NaN  \n",
              "2  NaN  NaN  NaN  NaN  NaN  \n",
              "3  NaN  NaN  NaN  NaN  NaN  \n",
              "4  NaN  NaN  NaN  NaN  NaN  \n",
              "\n",
              "[5 rows x 80 columns]"
            ]
          },
          "execution_count": 117,
          "metadata": {},
          "output_type": "execute_result"
        }
      ],
      "source": [
        "billboard  = pd.read_csv('billboard.csv')\n",
        "billboard.head(5)"
      ]
    },
    {
      "cell_type": "markdown",
      "metadata": {
        "id": "t3ppU3_w4RKt"
      },
      "source": [
        "- Escribe una línea de código que te dé una gran idea de cuántos valores nulos tiene cada columna. Si hay alguna columna que no tenga valores no nulos, elimínala.\n",
        "\n"
      ]
    },
    {
      "cell_type": "code",
      "execution_count": 118,
      "metadata": {
        "id": "_qHbzD-r4RKt"
      },
      "outputs": [
        {
          "name": "stdout",
          "output_type": "stream",
          "text": [
            "(317, 80)\n",
            "(317, 69)\n"
          ]
        }
      ],
      "source": [
        "#Cuantos valores nulos hay en cada columna\n",
        "# print(billboard.isnull().sum())\n",
        "print(billboard.shape)\n",
        "\n",
        "#Eliminamos las filas que solo tienen valores nulos\n",
        "billboard.dropna(axis= 1, how='all', inplace=True)\n",
        "print(billboard.shape)"
      ]
    },
    {
      "cell_type": "markdown",
      "metadata": {
        "id": "6CWvfEL14RKt"
      },
      "source": [
        "- Con un bucle for, dibuja y estudia los valores en cada una de las columnas W restantes.\n",
        "\n"
      ]
    },
    {
      "cell_type": "code",
      "execution_count": null,
      "metadata": {
        "id": "8YhWD7b_4RKt"
      },
      "outputs": [],
      "source": [
        "# print(billboard)\n",
        "import matplotlib.pyplot as plt\n",
        "\n",
        "#Con un bucle for, dibuja y estudia los valores en cada una de las columnas W restantes.\n",
        "for col in billboard.columns:\n",
        "    if col.startswith('w'):\n",
        "        plt.figure(figsize=(6, 3))\n",
        "        plt.hist(billboard[col].dropna(), bins=100)\n",
        "        plt.title(f'Histograma de {col}')\n",
        "        plt.xlabel('Ranking')\n",
        "        plt.ylabel('Frecuencia')\n",
        "        plt.show()"
      ]
    },
    {
      "cell_type": "markdown",
      "metadata": {
        "id": "zcOUSnKN4RKu"
      },
      "source": [
        "- El conjunto de datos está en formato ancho, usa una función apropiada para cambiar a un formato largo y nombra el dataframe fundido mlt_df.\n",
        "\n"
      ]
    },
    {
      "cell_type": "code",
      "execution_count": 122,
      "metadata": {
        "id": "eqN6rSuM4RKu"
      },
      "outputs": [
        {
          "data": {
            "text/html": [
              "<div>\n",
              "<style scoped>\n",
              "    .dataframe tbody tr th:only-of-type {\n",
              "        vertical-align: middle;\n",
              "    }\n",
              "\n",
              "    .dataframe tbody tr th {\n",
              "        vertical-align: top;\n",
              "    }\n",
              "\n",
              "    .dataframe thead th {\n",
              "        text-align: right;\n",
              "    }\n",
              "</style>\n",
              "<table border=\"1\" class=\"dataframe\">\n",
              "  <thead>\n",
              "    <tr style=\"text-align: right;\">\n",
              "      <th></th>\n",
              "      <th>artist</th>\n",
              "      <th>track</th>\n",
              "      <th>time</th>\n",
              "      <th>date_e</th>\n",
              "      <th>week</th>\n",
              "      <th>ranking</th>\n",
              "    </tr>\n",
              "  </thead>\n",
              "  <tbody>\n",
              "    <tr>\n",
              "      <th>0</th>\n",
              "      <td>Destiny's Child</td>\n",
              "      <td>Independent Women Part I</td>\n",
              "      <td>3:38</td>\n",
              "      <td>2000-09-23</td>\n",
              "      <td>w1</td>\n",
              "      <td>78.0</td>\n",
              "    </tr>\n",
              "    <tr>\n",
              "      <th>1</th>\n",
              "      <td>Santana</td>\n",
              "      <td>Maria, Maria</td>\n",
              "      <td>4:18</td>\n",
              "      <td>2000-02-12</td>\n",
              "      <td>w1</td>\n",
              "      <td>15.0</td>\n",
              "    </tr>\n",
              "    <tr>\n",
              "      <th>2</th>\n",
              "      <td>Savage Garden</td>\n",
              "      <td>I Knew I Loved You</td>\n",
              "      <td>4:07</td>\n",
              "      <td>1999-10-23</td>\n",
              "      <td>w1</td>\n",
              "      <td>71.0</td>\n",
              "    </tr>\n",
              "    <tr>\n",
              "      <th>3</th>\n",
              "      <td>Madonna</td>\n",
              "      <td>Music</td>\n",
              "      <td>3:45</td>\n",
              "      <td>2000-08-12</td>\n",
              "      <td>w1</td>\n",
              "      <td>41.0</td>\n",
              "    </tr>\n",
              "    <tr>\n",
              "      <th>4</th>\n",
              "      <td>Aguilera, Christina</td>\n",
              "      <td>Come On Over Baby (All I Want Is You)</td>\n",
              "      <td>3:38</td>\n",
              "      <td>2000-08-05</td>\n",
              "      <td>w1</td>\n",
              "      <td>57.0</td>\n",
              "    </tr>\n",
              "    <tr>\n",
              "      <th>...</th>\n",
              "      <td>...</td>\n",
              "      <td>...</td>\n",
              "      <td>...</td>\n",
              "      <td>...</td>\n",
              "      <td>...</td>\n",
              "      <td>...</td>\n",
              "    </tr>\n",
              "    <tr>\n",
              "      <th>20600</th>\n",
              "      <td>Ghostface Killah</td>\n",
              "      <td>Cherchez LaGhost</td>\n",
              "      <td>3:04</td>\n",
              "      <td>2000-08-05</td>\n",
              "      <td>w65</td>\n",
              "      <td>NaN</td>\n",
              "    </tr>\n",
              "    <tr>\n",
              "      <th>20601</th>\n",
              "      <td>Smith, Will</td>\n",
              "      <td>Freakin' It</td>\n",
              "      <td>3:58</td>\n",
              "      <td>2000-02-12</td>\n",
              "      <td>w65</td>\n",
              "      <td>NaN</td>\n",
              "    </tr>\n",
              "    <tr>\n",
              "      <th>20602</th>\n",
              "      <td>Zombie Nation</td>\n",
              "      <td>Kernkraft 400</td>\n",
              "      <td>3:30</td>\n",
              "      <td>2000-09-02</td>\n",
              "      <td>w65</td>\n",
              "      <td>NaN</td>\n",
              "    </tr>\n",
              "    <tr>\n",
              "      <th>20603</th>\n",
              "      <td>Eastsidaz, The</td>\n",
              "      <td>Got Beef</td>\n",
              "      <td>3:58</td>\n",
              "      <td>2000-07-01</td>\n",
              "      <td>w65</td>\n",
              "      <td>NaN</td>\n",
              "    </tr>\n",
              "    <tr>\n",
              "      <th>20604</th>\n",
              "      <td>Fragma</td>\n",
              "      <td>Toca's Miracle</td>\n",
              "      <td>3:22</td>\n",
              "      <td>2000-10-28</td>\n",
              "      <td>w65</td>\n",
              "      <td>NaN</td>\n",
              "    </tr>\n",
              "  </tbody>\n",
              "</table>\n",
              "<p>20605 rows × 6 columns</p>\n",
              "</div>"
            ],
            "text/plain": [
              "                    artist                                  track  time  \\\n",
              "0          Destiny's Child               Independent Women Part I  3:38   \n",
              "1                  Santana                           Maria, Maria  4:18   \n",
              "2            Savage Garden                     I Knew I Loved You  4:07   \n",
              "3                  Madonna                                  Music  3:45   \n",
              "4      Aguilera, Christina  Come On Over Baby (All I Want Is You)  3:38   \n",
              "...                    ...                                    ...   ...   \n",
              "20600     Ghostface Killah                       Cherchez LaGhost  3:04   \n",
              "20601          Smith, Will                            Freakin' It  3:58   \n",
              "20602        Zombie Nation                          Kernkraft 400  3:30   \n",
              "20603       Eastsidaz, The                               Got Beef  3:58   \n",
              "20604               Fragma                         Toca's Miracle  3:22   \n",
              "\n",
              "           date_e week  ranking  \n",
              "0      2000-09-23   w1     78.0  \n",
              "1      2000-02-12   w1     15.0  \n",
              "2      1999-10-23   w1     71.0  \n",
              "3      2000-08-12   w1     41.0  \n",
              "4      2000-08-05   w1     57.0  \n",
              "...           ...  ...      ...  \n",
              "20600  2000-08-05  w65      NaN  \n",
              "20601  2000-02-12  w65      NaN  \n",
              "20602  2000-09-02  w65      NaN  \n",
              "20603  2000-07-01  w65      NaN  \n",
              "20604  2000-10-28  w65      NaN  \n",
              "\n",
              "[20605 rows x 6 columns]"
            ]
          },
          "execution_count": 122,
          "metadata": {},
          "output_type": "execute_result"
        }
      ],
      "source": [
        "import pandas as pd\n",
        "\n",
        "mlt_df = pd.melt(\n",
        "    billboard,\n",
        "    id_vars=['artist', 'track', 'time', 'date_e'],\n",
        "    var_name='week',\n",
        "    value_name='ranking'\n",
        ")\n",
        "mlt_df"
      ]
    },
    {
      "cell_type": "markdown",
      "metadata": {
        "id": "Tp-sJgha4RKu"
      },
      "source": [
        "- Escribe un código que muestre mlt_df cada 1200 filas.\n",
        "\n"
      ]
    },
    {
      "cell_type": "code",
      "execution_count": 127,
      "metadata": {
        "id": "GXuPHbSs4RKu"
      },
      "outputs": [
        {
          "name": "stdout",
          "output_type": "stream",
          "text": [
            "                 artist                               track  time      date_e  \\\n",
            "0       Destiny's Child            Independent Women Part I  3:38  2000-09-23   \n",
            "1200        Limp Bizkit                      N 2 Gether Now  3:55  1999-12-04   \n",
            "2400       Urban, Keith                     Your Everything  4:10  2000-07-15   \n",
            "3600          Mary Mary               Shackles (Praise You)  3:12  2000-03-25   \n",
            "4800               Pink                          There U Go  3:23  2000-03-04   \n",
            "6000     Levert, Gerald                          Baby U Are  4:10  2000-08-19   \n",
            "7200              Jay-Z       Do It Again (Put Ya Hands Up)  3:47  2000-01-15   \n",
            "8400      Tippin, Aaron                           Kiss This  2:53  2000-08-26   \n",
            "9600       Rimes, LeAnn                            Big Deal  3:03  1999-10-16   \n",
            "10800               98¡  Give Me Just One Night (Una Noche)  3:24  2000-08-19   \n",
            "12000   Estefan, Gloria               No Me Dejes De Querer  3:25  2000-06-10   \n",
            "13200       Diffie, Joe               It's Always Somethin'  2:55  2000-08-12   \n",
            "14400           Aaliyah                       I Don't Wanna  4:15  2000-01-29   \n",
            "15600  Barenaked Ladies                            Pinch Me  3:46  2000-09-09   \n",
            "16800            Fragma                      Toca's Miracle  3:22  2000-10-28   \n",
            "18000             Drama                   Left, Right, Left  3:37  2000-02-12   \n",
            "19200   Lopez, Jennifer                        Feelin' Good  4:28  2000-02-19   \n",
            "20400    Counting Crows                        Hanginaround  4:07  1999-11-06   \n",
            "\n",
            "      week  ranking  \n",
            "0       w1     78.0  \n",
            "1200    w4     78.0  \n",
            "2400    w8     59.0  \n",
            "3600   w12     39.0  \n",
            "4800   w16     14.0  \n",
            "6000   w19      NaN  \n",
            "7200   w23      NaN  \n",
            "8400   w27      NaN  \n",
            "9600   w31      NaN  \n",
            "10800  w35      NaN  \n",
            "12000  w38      NaN  \n",
            "13200  w42      NaN  \n",
            "14400  w46      NaN  \n",
            "15600  w50      NaN  \n",
            "16800  w53      NaN  \n",
            "18000  w57      NaN  \n",
            "19200  w61      NaN  \n",
            "20400  w65      NaN  \n"
          ]
        }
      ],
      "source": [
        "# Mostramos mlt_df cada 1200 filas\n",
        "print(mlt_df.loc[::1200])"
      ]
    },
    {
      "cell_type": "markdown",
      "metadata": {
        "id": "hkCOcN1i4RKv"
      },
      "source": [
        "- Ejecuta el siguiente código primero y responde la pregunta. ¿Podrías haber hecho esto usando también el enmascaramiento booleano?\n",
        "\n"
      ]
    },
    {
      "cell_type": "code",
      "execution_count": 139,
      "metadata": {
        "id": "AZjk6NJx4RKv"
      },
      "outputs": [
        {
          "data": {
            "text/html": [
              "<div>\n",
              "<style scoped>\n",
              "    .dataframe tbody tr th:only-of-type {\n",
              "        vertical-align: middle;\n",
              "    }\n",
              "\n",
              "    .dataframe tbody tr th {\n",
              "        vertical-align: top;\n",
              "    }\n",
              "\n",
              "    .dataframe thead th {\n",
              "        text-align: right;\n",
              "    }\n",
              "</style>\n",
              "<table border=\"1\" class=\"dataframe\">\n",
              "  <thead>\n",
              "    <tr style=\"text-align: right;\">\n",
              "      <th></th>\n",
              "      <th>artist</th>\n",
              "      <th>track</th>\n",
              "      <th>time</th>\n",
              "      <th>date_e</th>\n",
              "      <th>week</th>\n",
              "      <th>ranking</th>\n",
              "    </tr>\n",
              "  </thead>\n",
              "  <tbody>\n",
              "    <tr>\n",
              "      <th>51</th>\n",
              "      <td>Spears, Britney</td>\n",
              "      <td>Oops!.. I Did It Again</td>\n",
              "      <td>3:30</td>\n",
              "      <td>2000-04-22</td>\n",
              "      <td>w1</td>\n",
              "      <td>67.0</td>\n",
              "    </tr>\n",
              "    <tr>\n",
              "      <th>63</th>\n",
              "      <td>Spears, Britney</td>\n",
              "      <td>From The Bottom Of My Broken Heart</td>\n",
              "      <td>4:30</td>\n",
              "      <td>2000-01-29</td>\n",
              "      <td>w1</td>\n",
              "      <td>76.0</td>\n",
              "    </tr>\n",
              "    <tr>\n",
              "      <th>93</th>\n",
              "      <td>Spears, Britney</td>\n",
              "      <td>Lucky</td>\n",
              "      <td>3:23</td>\n",
              "      <td>2000-08-12</td>\n",
              "      <td>w1</td>\n",
              "      <td>61.0</td>\n",
              "    </tr>\n",
              "    <tr>\n",
              "      <th>368</th>\n",
              "      <td>Spears, Britney</td>\n",
              "      <td>Oops!.. I Did It Again</td>\n",
              "      <td>3:30</td>\n",
              "      <td>2000-04-22</td>\n",
              "      <td>w2</td>\n",
              "      <td>38.0</td>\n",
              "    </tr>\n",
              "    <tr>\n",
              "      <th>380</th>\n",
              "      <td>Spears, Britney</td>\n",
              "      <td>From The Bottom Of My Broken Heart</td>\n",
              "      <td>4:30</td>\n",
              "      <td>2000-01-29</td>\n",
              "      <td>w2</td>\n",
              "      <td>59.0</td>\n",
              "    </tr>\n",
              "    <tr>\n",
              "      <th>...</th>\n",
              "      <td>...</td>\n",
              "      <td>...</td>\n",
              "      <td>...</td>\n",
              "      <td>...</td>\n",
              "      <td>...</td>\n",
              "      <td>...</td>\n",
              "    </tr>\n",
              "    <tr>\n",
              "      <th>20034</th>\n",
              "      <td>Spears, Britney</td>\n",
              "      <td>From The Bottom Of My Broken Heart</td>\n",
              "      <td>4:30</td>\n",
              "      <td>2000-01-29</td>\n",
              "      <td>w64</td>\n",
              "      <td>NaN</td>\n",
              "    </tr>\n",
              "    <tr>\n",
              "      <th>20064</th>\n",
              "      <td>Spears, Britney</td>\n",
              "      <td>Lucky</td>\n",
              "      <td>3:23</td>\n",
              "      <td>2000-08-12</td>\n",
              "      <td>w64</td>\n",
              "      <td>NaN</td>\n",
              "    </tr>\n",
              "    <tr>\n",
              "      <th>20339</th>\n",
              "      <td>Spears, Britney</td>\n",
              "      <td>Oops!.. I Did It Again</td>\n",
              "      <td>3:30</td>\n",
              "      <td>2000-04-22</td>\n",
              "      <td>w65</td>\n",
              "      <td>NaN</td>\n",
              "    </tr>\n",
              "    <tr>\n",
              "      <th>20351</th>\n",
              "      <td>Spears, Britney</td>\n",
              "      <td>From The Bottom Of My Broken Heart</td>\n",
              "      <td>4:30</td>\n",
              "      <td>2000-01-29</td>\n",
              "      <td>w65</td>\n",
              "      <td>NaN</td>\n",
              "    </tr>\n",
              "    <tr>\n",
              "      <th>20381</th>\n",
              "      <td>Spears, Britney</td>\n",
              "      <td>Lucky</td>\n",
              "      <td>3:23</td>\n",
              "      <td>2000-08-12</td>\n",
              "      <td>w65</td>\n",
              "      <td>NaN</td>\n",
              "    </tr>\n",
              "  </tbody>\n",
              "</table>\n",
              "<p>195 rows × 6 columns</p>\n",
              "</div>"
            ],
            "text/plain": [
              "                artist                               track  time      date_e  \\\n",
              "51     Spears, Britney              Oops!.. I Did It Again  3:30  2000-04-22   \n",
              "63     Spears, Britney  From The Bottom Of My Broken Heart  4:30  2000-01-29   \n",
              "93     Spears, Britney                               Lucky  3:23  2000-08-12   \n",
              "368    Spears, Britney              Oops!.. I Did It Again  3:30  2000-04-22   \n",
              "380    Spears, Britney  From The Bottom Of My Broken Heart  4:30  2000-01-29   \n",
              "...                ...                                 ...   ...         ...   \n",
              "20034  Spears, Britney  From The Bottom Of My Broken Heart  4:30  2000-01-29   \n",
              "20064  Spears, Britney                               Lucky  3:23  2000-08-12   \n",
              "20339  Spears, Britney              Oops!.. I Did It Again  3:30  2000-04-22   \n",
              "20351  Spears, Britney  From The Bottom Of My Broken Heart  4:30  2000-01-29   \n",
              "20381  Spears, Britney                               Lucky  3:23  2000-08-12   \n",
              "\n",
              "      week  ranking  \n",
              "51      w1     67.0  \n",
              "63      w1     76.0  \n",
              "93      w1     61.0  \n",
              "368     w2     38.0  \n",
              "380     w2     59.0  \n",
              "...    ...      ...  \n",
              "20034  w64      NaN  \n",
              "20064  w64      NaN  \n",
              "20339  w65      NaN  \n",
              "20351  w65      NaN  \n",
              "20381  w65      NaN  \n",
              "\n",
              "[195 rows x 6 columns]"
            ]
          },
          "execution_count": 139,
          "metadata": {},
          "output_type": "execute_result"
        }
      ],
      "source": [
        "mlt_df.query('artist == \"Spears, Britney\"')"
      ]
    },
    {
      "cell_type": "markdown",
      "metadata": {
        "id": "WSnawEw54RKv"
      },
      "source": [
        "¿Se podría haber hecho esto utilizando también el enmascaramiento booleano?\n",
        "\n"
      ]
    },
    {
      "cell_type": "markdown",
      "metadata": {
        "id": "zChFd8k54RKv"
      },
      "source": [
        "Answer:"
      ]
    },
    {
      "cell_type": "code",
      "execution_count": null,
      "metadata": {
        "id": "vRxlEOg84RKv"
      },
      "outputs": [],
      "source": [
        "# Si\n"
      ]
    },
    {
      "cell_type": "markdown",
      "metadata": {
        "id": "7wheet0U4RKw"
      },
      "source": [
        "- Utiliza el enfoque en e o la máscara booleana para extraer todas las canciones únicas que Britney Spears tiene en este conjunto de datos.\n",
        "\n"
      ]
    },
    {
      "cell_type": "code",
      "execution_count": 153,
      "metadata": {
        "id": "7F0cyxR74RKx"
      },
      "outputs": [
        {
          "data": {
            "text/plain": [
              "array(['Oops!.. I Did It Again', 'From The Bottom Of My Broken Heart',\n",
              "       'Lucky'], dtype=object)"
            ]
          },
          "execution_count": 153,
          "metadata": {},
          "output_type": "execute_result"
        }
      ],
      "source": [
        "mlt_df[mlt_df['artist'] == 'Spears, Britney']\n",
        "#Ahora filtra las canciones unicas de Britney Spears que estuvieron en el ranking usando enfoque en e o mascara booleana\n",
        "unique_tracks = mlt_df[mlt_df['artist'] == 'Spears, Britney']['track'].unique()\n",
        "unique_tracks"
      ]
    },
    {
      "cell_type": "markdown",
      "metadata": {
        "id": "lEc2keVM4RKx"
      },
      "source": [
        "- En mlt_df muestra todas las semanas que la canción \"Oops!.. I Did It Again\" estuvo en el top-100\n",
        "\n"
      ]
    },
    {
      "cell_type": "code",
      "execution_count": 162,
      "metadata": {},
      "outputs": [
        {
          "name": "stdout",
          "output_type": "stream",
          "text": [
            "     week  ranking\n",
            "51     w1     67.0\n",
            "368    w2     38.0\n",
            "685    w3     26.0\n",
            "1002   w4     19.0\n",
            "1319   w5     15.0\n",
            "1636   w6     13.0\n",
            "1953   w7     12.0\n",
            "2270   w8      9.0\n",
            "2587   w9      9.0\n",
            "2904  w10     10.0\n",
            "3221  w11     14.0\n",
            "3538  w12     15.0\n",
            "3855  w13     17.0\n",
            "4172  w14     24.0\n",
            "4489  w15     35.0\n",
            "4806  w16     49.0\n",
            "5123  w17     77.0\n",
            "5440  w18     85.0\n",
            "5757  w19     90.0\n",
            "6074  w20     96.0\n"
          ]
        }
      ],
      "source": [
        "top100_weeks = mlt_df[(mlt_df['track'] == \"Oops!.. I Did It Again\") & (mlt_df['ranking'] <= 100)]\n",
        "print(top100_weeks[['week', 'ranking']])"
      ]
    },
    {
      "cell_type": "markdown",
      "metadata": {
        "id": "0mEEGY8D4RKy"
      },
      "source": [
        "# Ejercicio 4\n",
        "\n",
        "Para este ejercicio, utilizaremos LaqnData.csv. Cada fila de este conjunto de datos muestra un registro de medición por hora de uno de los cinco siguientes contaminantes del aire: NO, NO2, NOX, PM10 y PM2,5. Los datos se recopilaron en una ubicación de Londres durante todo el año 2017. Lea los datos con Pandas y realice las siguientes tareas."
      ]
    },
    {
      "cell_type": "code",
      "execution_count": 78,
      "metadata": {
        "id": "HkFc-ToX4RKy",
        "outputId": "66258ef7-f02d-4056-adc8-44727e4645e1"
      },
      "outputs": [
        {
          "data": {
            "text/html": [
              "<div>\n",
              "<style scoped>\n",
              "    .dataframe tbody tr th:only-of-type {\n",
              "        vertical-align: middle;\n",
              "    }\n",
              "\n",
              "    .dataframe tbody tr th {\n",
              "        vertical-align: top;\n",
              "    }\n",
              "\n",
              "    .dataframe thead th {\n",
              "        text-align: right;\n",
              "    }\n",
              "</style>\n",
              "<table border=\"1\" class=\"dataframe\">\n",
              "  <thead>\n",
              "    <tr style=\"text-align: right;\">\n",
              "      <th></th>\n",
              "      <th>Site</th>\n",
              "      <th>Species</th>\n",
              "      <th>ReadingDateTime</th>\n",
              "      <th>Value</th>\n",
              "      <th>Units</th>\n",
              "      <th>Provisional or Ratified</th>\n",
              "    </tr>\n",
              "  </thead>\n",
              "  <tbody>\n",
              "    <tr>\n",
              "      <th>0</th>\n",
              "      <td>BL0</td>\n",
              "      <td>NO</td>\n",
              "      <td>01/01/2018 00:00</td>\n",
              "      <td>2.5</td>\n",
              "      <td>ug m-3</td>\n",
              "      <td>R</td>\n",
              "    </tr>\n",
              "    <tr>\n",
              "      <th>1</th>\n",
              "      <td>BL0</td>\n",
              "      <td>NO</td>\n",
              "      <td>01/01/2018 01:00</td>\n",
              "      <td>1.9</td>\n",
              "      <td>ug m-3</td>\n",
              "      <td>R</td>\n",
              "    </tr>\n",
              "    <tr>\n",
              "      <th>2</th>\n",
              "      <td>BL0</td>\n",
              "      <td>NO</td>\n",
              "      <td>01/01/2018 02:00</td>\n",
              "      <td>1.8</td>\n",
              "      <td>ug m-3</td>\n",
              "      <td>R</td>\n",
              "    </tr>\n",
              "    <tr>\n",
              "      <th>3</th>\n",
              "      <td>BL0</td>\n",
              "      <td>NO</td>\n",
              "      <td>01/01/2018 03:00</td>\n",
              "      <td>0.9</td>\n",
              "      <td>ug m-3</td>\n",
              "      <td>R</td>\n",
              "    </tr>\n",
              "    <tr>\n",
              "      <th>4</th>\n",
              "      <td>BL0</td>\n",
              "      <td>NO</td>\n",
              "      <td>01/01/2018 04:00</td>\n",
              "      <td>0.9</td>\n",
              "      <td>ug m-3</td>\n",
              "      <td>R</td>\n",
              "    </tr>\n",
              "    <tr>\n",
              "      <th>...</th>\n",
              "      <td>...</td>\n",
              "      <td>...</td>\n",
              "      <td>...</td>\n",
              "      <td>...</td>\n",
              "      <td>...</td>\n",
              "      <td>...</td>\n",
              "    </tr>\n",
              "    <tr>\n",
              "      <th>43795</th>\n",
              "      <td>BL0</td>\n",
              "      <td>PM10</td>\n",
              "      <td>31/12/2018 19:00</td>\n",
              "      <td>11.2</td>\n",
              "      <td>ug/m3</td>\n",
              "      <td>P</td>\n",
              "    </tr>\n",
              "    <tr>\n",
              "      <th>43796</th>\n",
              "      <td>BL0</td>\n",
              "      <td>PM10</td>\n",
              "      <td>31/12/2018 20:00</td>\n",
              "      <td>11.5</td>\n",
              "      <td>ug/m3</td>\n",
              "      <td>P</td>\n",
              "    </tr>\n",
              "    <tr>\n",
              "      <th>43797</th>\n",
              "      <td>BL0</td>\n",
              "      <td>PM10</td>\n",
              "      <td>31/12/2018 21:00</td>\n",
              "      <td>11.8</td>\n",
              "      <td>ug/m3</td>\n",
              "      <td>P</td>\n",
              "    </tr>\n",
              "    <tr>\n",
              "      <th>43798</th>\n",
              "      <td>BL0</td>\n",
              "      <td>PM10</td>\n",
              "      <td>31/12/2018 22:00</td>\n",
              "      <td>11.3</td>\n",
              "      <td>ug/m3</td>\n",
              "      <td>P</td>\n",
              "    </tr>\n",
              "    <tr>\n",
              "      <th>43799</th>\n",
              "      <td>BL0</td>\n",
              "      <td>PM10</td>\n",
              "      <td>31/12/2018 23:00</td>\n",
              "      <td>13.8</td>\n",
              "      <td>ug/m3</td>\n",
              "      <td>P</td>\n",
              "    </tr>\n",
              "  </tbody>\n",
              "</table>\n",
              "<p>43800 rows × 6 columns</p>\n",
              "</div>"
            ],
            "text/plain": [
              "      Site Species   ReadingDateTime  Value   Units Provisional or Ratified\n",
              "0      BL0      NO  01/01/2018 00:00    2.5  ug m-3                       R\n",
              "1      BL0      NO  01/01/2018 01:00    1.9  ug m-3                       R\n",
              "2      BL0      NO  01/01/2018 02:00    1.8  ug m-3                       R\n",
              "3      BL0      NO  01/01/2018 03:00    0.9  ug m-3                       R\n",
              "4      BL0      NO  01/01/2018 04:00    0.9  ug m-3                       R\n",
              "...    ...     ...               ...    ...     ...                     ...\n",
              "43795  BL0    PM10  31/12/2018 19:00   11.2   ug/m3                       P\n",
              "43796  BL0    PM10  31/12/2018 20:00   11.5   ug/m3                       P\n",
              "43797  BL0    PM10  31/12/2018 21:00   11.8   ug/m3                       P\n",
              "43798  BL0    PM10  31/12/2018 22:00   11.3   ug/m3                       P\n",
              "43799  BL0    PM10  31/12/2018 23:00   13.8   ug/m3                       P\n",
              "\n",
              "[43800 rows x 6 columns]"
            ]
          },
          "execution_count": 78,
          "metadata": {},
          "output_type": "execute_result"
        }
      ],
      "source": [
        "import pandas as pd\n",
        "import matplotlib.pyplot as plt\n",
        "\n",
        "air_df = pd.read_csv('LaqnData.csv')\n",
        "air_df"
      ]
    },
    {
      "cell_type": "markdown",
      "metadata": {
        "id": "c70Sy_4-4RKz"
      },
      "source": [
        "- El conjunto de datos tiene 6 columnas. Tres de ellas, llamadas 'Site','Units','Provisional or Ratified' no añaden ningún valor informativo, ya que son las mismas en todo el conjunto de datos. Utiliza el siguiente código para eliminarlas.\n",
        "\n"
      ]
    },
    {
      "cell_type": "code",
      "execution_count": 79,
      "metadata": {
        "id": "ugpHy6Nm4RKz"
      },
      "outputs": [
        {
          "data": {
            "text/html": [
              "<div>\n",
              "<style scoped>\n",
              "    .dataframe tbody tr th:only-of-type {\n",
              "        vertical-align: middle;\n",
              "    }\n",
              "\n",
              "    .dataframe tbody tr th {\n",
              "        vertical-align: top;\n",
              "    }\n",
              "\n",
              "    .dataframe thead th {\n",
              "        text-align: right;\n",
              "    }\n",
              "</style>\n",
              "<table border=\"1\" class=\"dataframe\">\n",
              "  <thead>\n",
              "    <tr style=\"text-align: right;\">\n",
              "      <th></th>\n",
              "      <th>Species</th>\n",
              "      <th>ReadingDateTime</th>\n",
              "      <th>Value</th>\n",
              "    </tr>\n",
              "  </thead>\n",
              "  <tbody>\n",
              "    <tr>\n",
              "      <th>0</th>\n",
              "      <td>NO</td>\n",
              "      <td>01/01/2018 00:00</td>\n",
              "      <td>2.5</td>\n",
              "    </tr>\n",
              "    <tr>\n",
              "      <th>1</th>\n",
              "      <td>NO</td>\n",
              "      <td>01/01/2018 01:00</td>\n",
              "      <td>1.9</td>\n",
              "    </tr>\n",
              "    <tr>\n",
              "      <th>2</th>\n",
              "      <td>NO</td>\n",
              "      <td>01/01/2018 02:00</td>\n",
              "      <td>1.8</td>\n",
              "    </tr>\n",
              "    <tr>\n",
              "      <th>3</th>\n",
              "      <td>NO</td>\n",
              "      <td>01/01/2018 03:00</td>\n",
              "      <td>0.9</td>\n",
              "    </tr>\n",
              "    <tr>\n",
              "      <th>4</th>\n",
              "      <td>NO</td>\n",
              "      <td>01/01/2018 04:00</td>\n",
              "      <td>0.9</td>\n",
              "    </tr>\n",
              "    <tr>\n",
              "      <th>...</th>\n",
              "      <td>...</td>\n",
              "      <td>...</td>\n",
              "      <td>...</td>\n",
              "    </tr>\n",
              "    <tr>\n",
              "      <th>43795</th>\n",
              "      <td>PM10</td>\n",
              "      <td>31/12/2018 19:00</td>\n",
              "      <td>11.2</td>\n",
              "    </tr>\n",
              "    <tr>\n",
              "      <th>43796</th>\n",
              "      <td>PM10</td>\n",
              "      <td>31/12/2018 20:00</td>\n",
              "      <td>11.5</td>\n",
              "    </tr>\n",
              "    <tr>\n",
              "      <th>43797</th>\n",
              "      <td>PM10</td>\n",
              "      <td>31/12/2018 21:00</td>\n",
              "      <td>11.8</td>\n",
              "    </tr>\n",
              "    <tr>\n",
              "      <th>43798</th>\n",
              "      <td>PM10</td>\n",
              "      <td>31/12/2018 22:00</td>\n",
              "      <td>11.3</td>\n",
              "    </tr>\n",
              "    <tr>\n",
              "      <th>43799</th>\n",
              "      <td>PM10</td>\n",
              "      <td>31/12/2018 23:00</td>\n",
              "      <td>13.8</td>\n",
              "    </tr>\n",
              "  </tbody>\n",
              "</table>\n",
              "<p>43800 rows × 3 columns</p>\n",
              "</div>"
            ],
            "text/plain": [
              "      Species   ReadingDateTime  Value\n",
              "0          NO  01/01/2018 00:00    2.5\n",
              "1          NO  01/01/2018 01:00    1.9\n",
              "2          NO  01/01/2018 02:00    1.8\n",
              "3          NO  01/01/2018 03:00    0.9\n",
              "4          NO  01/01/2018 04:00    0.9\n",
              "...       ...               ...    ...\n",
              "43795    PM10  31/12/2018 19:00   11.2\n",
              "43796    PM10  31/12/2018 20:00   11.5\n",
              "43797    PM10  31/12/2018 21:00   11.8\n",
              "43798    PM10  31/12/2018 22:00   11.3\n",
              "43799    PM10  31/12/2018 23:00   13.8\n",
              "\n",
              "[43800 rows x 3 columns]"
            ]
          },
          "execution_count": 79,
          "metadata": {},
          "output_type": "execute_result"
        }
      ],
      "source": [
        "air_df.drop(columns=['Site','Units','Provisional or Ratified'], inplace=True)\n",
        "air_df"
      ]
    },
    {
      "cell_type": "markdown",
      "metadata": {
        "id": "OPjo_p334RKz"
      },
      "source": [
        "- El conjunto de datos está en formato largo. Aplica la función adecuada para cambiarlo al formato ancho. Nombra el DataFrame transformado, pvt_df.\n",
        "\n"
      ]
    },
    {
      "cell_type": "code",
      "execution_count": 82,
      "metadata": {
        "id": "rQa3rIWo4RKz"
      },
      "outputs": [
        {
          "data": {
            "text/html": [
              "<div>\n",
              "<style scoped>\n",
              "    .dataframe tbody tr th:only-of-type {\n",
              "        vertical-align: middle;\n",
              "    }\n",
              "\n",
              "    .dataframe tbody tr th {\n",
              "        vertical-align: top;\n",
              "    }\n",
              "\n",
              "    .dataframe thead th {\n",
              "        text-align: right;\n",
              "    }\n",
              "</style>\n",
              "<table border=\"1\" class=\"dataframe\">\n",
              "  <thead>\n",
              "    <tr style=\"text-align: right;\">\n",
              "      <th>Species</th>\n",
              "      <th>NO</th>\n",
              "      <th>NO2</th>\n",
              "      <th>NOX</th>\n",
              "      <th>O3</th>\n",
              "      <th>PM10</th>\n",
              "    </tr>\n",
              "    <tr>\n",
              "      <th>ReadingDateTime</th>\n",
              "      <th></th>\n",
              "      <th></th>\n",
              "      <th></th>\n",
              "      <th></th>\n",
              "      <th></th>\n",
              "    </tr>\n",
              "  </thead>\n",
              "  <tbody>\n",
              "    <tr>\n",
              "      <th>01/01/2018 00:00</th>\n",
              "      <td>2.5</td>\n",
              "      <td>14.6</td>\n",
              "      <td>18.5</td>\n",
              "      <td>59.8</td>\n",
              "      <td>11.4</td>\n",
              "    </tr>\n",
              "    <tr>\n",
              "      <th>01/01/2018 01:00</th>\n",
              "      <td>1.9</td>\n",
              "      <td>17.3</td>\n",
              "      <td>20.2</td>\n",
              "      <td>53.6</td>\n",
              "      <td>8.9</td>\n",
              "    </tr>\n",
              "    <tr>\n",
              "      <th>01/01/2018 02:00</th>\n",
              "      <td>1.8</td>\n",
              "      <td>17.5</td>\n",
              "      <td>20.3</td>\n",
              "      <td>54.5</td>\n",
              "      <td>6.9</td>\n",
              "    </tr>\n",
              "    <tr>\n",
              "      <th>01/01/2018 03:00</th>\n",
              "      <td>0.9</td>\n",
              "      <td>17.3</td>\n",
              "      <td>18.7</td>\n",
              "      <td>57.5</td>\n",
              "      <td>5.6</td>\n",
              "    </tr>\n",
              "    <tr>\n",
              "      <th>01/01/2018 04:00</th>\n",
              "      <td>0.9</td>\n",
              "      <td>12.9</td>\n",
              "      <td>14.3</td>\n",
              "      <td>60.9</td>\n",
              "      <td>1.4</td>\n",
              "    </tr>\n",
              "  </tbody>\n",
              "</table>\n",
              "</div>"
            ],
            "text/plain": [
              "Species            NO   NO2   NOX    O3  PM10\n",
              "ReadingDateTime                              \n",
              "01/01/2018 00:00  2.5  14.6  18.5  59.8  11.4\n",
              "01/01/2018 01:00  1.9  17.3  20.2  53.6   8.9\n",
              "01/01/2018 02:00  1.8  17.5  20.3  54.5   6.9\n",
              "01/01/2018 03:00  0.9  17.3  18.7  57.5   5.6\n",
              "01/01/2018 04:00  0.9  12.9  14.3  60.9   1.4"
            ]
          },
          "execution_count": 82,
          "metadata": {},
          "output_type": "execute_result"
        }
      ],
      "source": [
        "pvt_df = air_df.pivot(index=['ReadingDateTime'], columns='Species', values='Value')\n",
        "pvt_df.head()\n"
      ]
    },
    {
      "cell_type": "markdown",
      "metadata": {
        "id": "ahuPgcTR4RK0"
      },
      "source": [
        "- Dibuja y estudia el histograma y los diagramas de caja para las columnas de pvt_df.\n",
        "\n"
      ]
    },
    {
      "cell_type": "code",
      "execution_count": 89,
      "metadata": {
        "id": "ApJcHJeG4RK0"
      },
      "outputs": [
        {
          "data": {
            "image/png": "[encoded data removed]",
            "text/plain": [
              "<Figure size 1200x800 with 6 Axes>"
            ]
          },
          "metadata": {},
          "output_type": "display_data"
        },
        {
          "data": {
            "image/png": "[encoded data removed]",
            "text/plain": [
              "<Figure size 1200x800 with 1 Axes>"
            ]
          },
          "metadata": {},
          "output_type": "display_data"
        }
      ],
      "source": [
        "#Dibuja y estudia el histograma y los diagramas de caja para las columnas de pvt_df.\n",
        "\n",
        "pvt_df.hist(figsize=(12, 8), bins=20)\n",
        "plt.show()\n",
        "pvt_df.boxplot(figsize=(12, 8))\n",
        "plt.show()"
      ]
    },
    {
      "cell_type": "markdown",
      "metadata": {
        "id": "N484_qd54RK0"
      },
      "source": [
        "# Ejercicio 5\n",
        "\n",
        "Seguiremos trabajando con Law Data.csv.\n",
        "\n",
        "- Ejecuta el siguiente código, observa su salida y luego estudia el código para responder qué hace cada línea de este código."
      ]
    },
    {
      "cell_type": "code",
      "execution_count": 49,
      "metadata": {
        "id": "w_Z-Yeq34RK0",
        "outputId": "0a10144c-33c6-452c-aefa-eaed3b73192b"
      },
      "outputs": [
        {
          "data": {
            "text/html": [
              "<div>\n",
              "<style scoped>\n",
              "    .dataframe tbody tr th:only-of-type {\n",
              "        vertical-align: middle;\n",
              "    }\n",
              "\n",
              "    .dataframe tbody tr th {\n",
              "        vertical-align: top;\n",
              "    }\n",
              "\n",
              "    .dataframe thead th {\n",
              "        text-align: right;\n",
              "    }\n",
              "</style>\n",
              "<table border=\"1\" class=\"dataframe\">\n",
              "  <thead>\n",
              "    <tr style=\"text-align: right;\">\n",
              "      <th></th>\n",
              "      <th>Species</th>\n",
              "      <th>Value</th>\n",
              "      <th>Day</th>\n",
              "      <th>Month</th>\n",
              "      <th>Time</th>\n",
              "    </tr>\n",
              "  </thead>\n",
              "  <tbody>\n",
              "    <tr>\n",
              "      <th>0</th>\n",
              "      <td>NO</td>\n",
              "      <td>2.5</td>\n",
              "      <td>01</td>\n",
              "      <td>01</td>\n",
              "      <td>00:00</td>\n",
              "    </tr>\n",
              "    <tr>\n",
              "      <th>1</th>\n",
              "      <td>NO</td>\n",
              "      <td>1.9</td>\n",
              "      <td>01</td>\n",
              "      <td>01</td>\n",
              "      <td>01:00</td>\n",
              "    </tr>\n",
              "    <tr>\n",
              "      <th>2</th>\n",
              "      <td>NO</td>\n",
              "      <td>1.8</td>\n",
              "      <td>01</td>\n",
              "      <td>01</td>\n",
              "      <td>02:00</td>\n",
              "    </tr>\n",
              "    <tr>\n",
              "      <th>3</th>\n",
              "      <td>NO</td>\n",
              "      <td>0.9</td>\n",
              "      <td>01</td>\n",
              "      <td>01</td>\n",
              "      <td>03:00</td>\n",
              "    </tr>\n",
              "    <tr>\n",
              "      <th>4</th>\n",
              "      <td>NO</td>\n",
              "      <td>0.9</td>\n",
              "      <td>01</td>\n",
              "      <td>01</td>\n",
              "      <td>04:00</td>\n",
              "    </tr>\n",
              "    <tr>\n",
              "      <th>...</th>\n",
              "      <td>...</td>\n",
              "      <td>...</td>\n",
              "      <td>...</td>\n",
              "      <td>...</td>\n",
              "      <td>...</td>\n",
              "    </tr>\n",
              "    <tr>\n",
              "      <th>43795</th>\n",
              "      <td>PM10</td>\n",
              "      <td>11.2</td>\n",
              "      <td>31</td>\n",
              "      <td>12</td>\n",
              "      <td>19:00</td>\n",
              "    </tr>\n",
              "    <tr>\n",
              "      <th>43796</th>\n",
              "      <td>PM10</td>\n",
              "      <td>11.5</td>\n",
              "      <td>31</td>\n",
              "      <td>12</td>\n",
              "      <td>20:00</td>\n",
              "    </tr>\n",
              "    <tr>\n",
              "      <th>43797</th>\n",
              "      <td>PM10</td>\n",
              "      <td>11.8</td>\n",
              "      <td>31</td>\n",
              "      <td>12</td>\n",
              "      <td>21:00</td>\n",
              "    </tr>\n",
              "    <tr>\n",
              "      <th>43798</th>\n",
              "      <td>PM10</td>\n",
              "      <td>11.3</td>\n",
              "      <td>31</td>\n",
              "      <td>12</td>\n",
              "      <td>22:00</td>\n",
              "    </tr>\n",
              "    <tr>\n",
              "      <th>43799</th>\n",
              "      <td>PM10</td>\n",
              "      <td>13.8</td>\n",
              "      <td>31</td>\n",
              "      <td>12</td>\n",
              "      <td>23:00</td>\n",
              "    </tr>\n",
              "  </tbody>\n",
              "</table>\n",
              "<p>43800 rows × 5 columns</p>\n",
              "</div>"
            ],
            "text/plain": [
              "      Species  Value Day Month   Time\n",
              "0          NO    2.5  01    01  00:00\n",
              "1          NO    1.9  01    01  01:00\n",
              "2          NO    1.8  01    01  02:00\n",
              "3          NO    0.9  01    01  03:00\n",
              "4          NO    0.9  01    01  04:00\n",
              "...       ...    ...  ..   ...    ...\n",
              "43795    PM10   11.2  31    12  19:00\n",
              "43796    PM10   11.5  31    12  20:00\n",
              "43797    PM10   11.8  31    12  21:00\n",
              "43798    PM10   11.3  31    12  22:00\n",
              "43799    PM10   13.8  31    12  23:00\n",
              "\n",
              "[43800 rows x 5 columns]"
            ]
          },
          "execution_count": 49,
          "metadata": {},
          "output_type": "execute_result"
        }
      ],
      "source": [
        "import pandas as pd\n",
        "air_df = pd.read_csv('LaqnData.csv')\n",
        "air_df.drop(columns=['Site','Units','Provisional or Ratified'], inplace=True)\n",
        "datetime_df = air_df.ReadingDateTime.str.split(' ',expand=True)\n",
        "datetime_df.columns = ['Date','Time']\n",
        "date_df = datetime_df.Date.str.split('/',expand=True)\n",
        "date_df.columns = ['Day','Month','Year']\n",
        "air_df = air_df.join(date_df).join(datetime_df.Time).drop(columns=['ReadingDateTime','Year'])\n",
        "air_df"
      ]
    },
    {
      "cell_type": "code",
      "execution_count": 50,
      "metadata": {
        "id": "sZlFYlFZ4RK1"
      },
      "outputs": [],
      "source": [
        "# Importamos el CSV, elmiinamos 3 de sus columnas, luego creamos un df de la fecha y hora,\n",
        "# y lo separamos en 3 columnas diferentes, dia, mes y hora, para finalmente unirlo al df \n",
        "# original y eliminar las columnas que ya no necesitamos."
      ]
    },
    {
      "cell_type": "markdown",
      "metadata": {
        "id": "IsopN1Ad4RK1"
      },
      "source": [
        "- Ejecuta el siguiente código, observa su salida y luego estudia el código para responder qué hace esta línea de código.\n",
        "\n"
      ]
    },
    {
      "cell_type": "code",
      "execution_count": null,
      "metadata": {
        "id": "hpjKZ0Vp4RK2",
        "outputId": "1de2a037-35b2-4e8e-aad3-f660ee931207"
      },
      "outputs": [
        {
          "data": {
            "text/html": [
              "<div>\n",
              "<style scoped>\n",
              "    .dataframe tbody tr th:only-of-type {\n",
              "        vertical-align: middle;\n",
              "    }\n",
              "\n",
              "    .dataframe tbody tr th {\n",
              "        vertical-align: top;\n",
              "    }\n",
              "\n",
              "    .dataframe thead th {\n",
              "        text-align: right;\n",
              "    }\n",
              "</style>\n",
              "<table border=\"1\" class=\"dataframe\">\n",
              "  <thead>\n",
              "    <tr style=\"text-align: right;\">\n",
              "      <th></th>\n",
              "      <th></th>\n",
              "      <th></th>\n",
              "      <th></th>\n",
              "      <th>Value</th>\n",
              "    </tr>\n",
              "    <tr>\n",
              "      <th>Month</th>\n",
              "      <th>Day</th>\n",
              "      <th>Time</th>\n",
              "      <th>Species</th>\n",
              "      <th></th>\n",
              "    </tr>\n",
              "  </thead>\n",
              "  <tbody>\n",
              "    <tr>\n",
              "      <th rowspan=\"5\" valign=\"top\">01</th>\n",
              "      <th rowspan=\"5\" valign=\"top\">01</th>\n",
              "      <th>00:00</th>\n",
              "      <th>NO</th>\n",
              "      <td>2.5</td>\n",
              "    </tr>\n",
              "    <tr>\n",
              "      <th>01:00</th>\n",
              "      <th>NO</th>\n",
              "      <td>1.9</td>\n",
              "    </tr>\n",
              "    <tr>\n",
              "      <th>02:00</th>\n",
              "      <th>NO</th>\n",
              "      <td>1.8</td>\n",
              "    </tr>\n",
              "    <tr>\n",
              "      <th>03:00</th>\n",
              "      <th>NO</th>\n",
              "      <td>0.9</td>\n",
              "    </tr>\n",
              "    <tr>\n",
              "      <th>04:00</th>\n",
              "      <th>NO</th>\n",
              "      <td>0.9</td>\n",
              "    </tr>\n",
              "    <tr>\n",
              "      <th>...</th>\n",
              "      <th>...</th>\n",
              "      <th>...</th>\n",
              "      <th>...</th>\n",
              "      <td>...</td>\n",
              "    </tr>\n",
              "    <tr>\n",
              "      <th rowspan=\"5\" valign=\"top\">12</th>\n",
              "      <th rowspan=\"5\" valign=\"top\">31</th>\n",
              "      <th>19:00</th>\n",
              "      <th>PM10</th>\n",
              "      <td>11.2</td>\n",
              "    </tr>\n",
              "    <tr>\n",
              "      <th>20:00</th>\n",
              "      <th>PM10</th>\n",
              "      <td>11.5</td>\n",
              "    </tr>\n",
              "    <tr>\n",
              "      <th>21:00</th>\n",
              "      <th>PM10</th>\n",
              "      <td>11.8</td>\n",
              "    </tr>\n",
              "    <tr>\n",
              "      <th>22:00</th>\n",
              "      <th>PM10</th>\n",
              "      <td>11.3</td>\n",
              "    </tr>\n",
              "    <tr>\n",
              "      <th>23:00</th>\n",
              "      <th>PM10</th>\n",
              "      <td>13.8</td>\n",
              "    </tr>\n",
              "  </tbody>\n",
              "</table>\n",
              "<p>43800 rows × 1 columns</p>\n",
              "</div>"
            ],
            "text/plain": [
              "                         Value\n",
              "Month Day Time  Species       \n",
              "01    01  00:00 NO         2.5\n",
              "          01:00 NO         1.9\n",
              "          02:00 NO         1.8\n",
              "          03:00 NO         0.9\n",
              "          04:00 NO         0.9\n",
              "...                        ...\n",
              "12    31  19:00 PM10      11.2\n",
              "          20:00 PM10      11.5\n",
              "          21:00 PM10      11.8\n",
              "          22:00 PM10      11.3\n",
              "          23:00 PM10      13.8\n",
              "\n",
              "[43800 rows x 1 columns]"
            ]
          },
          "execution_count": 53,
          "metadata": {},
          "output_type": "execute_result"
        }
      ],
      "source": [
        "air_df = air_df.set_index(['Month','Day','Time','Species'])\n",
        "air_df"
      ]
    },
    {
      "cell_type": "code",
      "execution_count": null,
      "metadata": {
        "id": "lOLLRxgG4RK2"
      },
      "outputs": [],
      "source": [
        "# En este caso se conviertes las columnas Month, Day, Time y Species en indices del dataframe."
      ]
    },
    {
      "cell_type": "markdown",
      "metadata": {
        "id": "Bgofiphj4RK3"
      },
      "source": [
        "- Ejecuta el siguiente código, observa su salida y luego estudia el código para responder qué hace esta línea de código.\n",
        "\n"
      ]
    },
    {
      "cell_type": "code",
      "execution_count": 55,
      "metadata": {
        "id": "vvmccAm34RK3",
        "outputId": "d0ce52be-9c54-411c-af9d-d11e3e3cd3b9"
      },
      "outputs": [
        {
          "data": {
            "text/html": [
              "<div>\n",
              "<style scoped>\n",
              "    .dataframe tbody tr th:only-of-type {\n",
              "        vertical-align: middle;\n",
              "    }\n",
              "\n",
              "    .dataframe tbody tr th {\n",
              "        vertical-align: top;\n",
              "    }\n",
              "\n",
              "    .dataframe thead tr th {\n",
              "        text-align: left;\n",
              "    }\n",
              "\n",
              "    .dataframe thead tr:last-of-type th {\n",
              "        text-align: right;\n",
              "    }\n",
              "</style>\n",
              "<table border=\"1\" class=\"dataframe\">\n",
              "  <thead>\n",
              "    <tr>\n",
              "      <th></th>\n",
              "      <th></th>\n",
              "      <th></th>\n",
              "      <th colspan=\"5\" halign=\"left\">Value</th>\n",
              "    </tr>\n",
              "    <tr>\n",
              "      <th></th>\n",
              "      <th></th>\n",
              "      <th>Species</th>\n",
              "      <th>NO</th>\n",
              "      <th>NO2</th>\n",
              "      <th>NOX</th>\n",
              "      <th>O3</th>\n",
              "      <th>PM10</th>\n",
              "    </tr>\n",
              "    <tr>\n",
              "      <th>Month</th>\n",
              "      <th>Day</th>\n",
              "      <th>Time</th>\n",
              "      <th></th>\n",
              "      <th></th>\n",
              "      <th></th>\n",
              "      <th></th>\n",
              "      <th></th>\n",
              "    </tr>\n",
              "  </thead>\n",
              "  <tbody>\n",
              "    <tr>\n",
              "      <th rowspan=\"5\" valign=\"top\">01</th>\n",
              "      <th rowspan=\"5\" valign=\"top\">01</th>\n",
              "      <th>00:00</th>\n",
              "      <td>2.5</td>\n",
              "      <td>14.6</td>\n",
              "      <td>18.5</td>\n",
              "      <td>59.8</td>\n",
              "      <td>11.4</td>\n",
              "    </tr>\n",
              "    <tr>\n",
              "      <th>01:00</th>\n",
              "      <td>1.9</td>\n",
              "      <td>17.3</td>\n",
              "      <td>20.2</td>\n",
              "      <td>53.6</td>\n",
              "      <td>8.9</td>\n",
              "    </tr>\n",
              "    <tr>\n",
              "      <th>02:00</th>\n",
              "      <td>1.8</td>\n",
              "      <td>17.5</td>\n",
              "      <td>20.3</td>\n",
              "      <td>54.5</td>\n",
              "      <td>6.9</td>\n",
              "    </tr>\n",
              "    <tr>\n",
              "      <th>03:00</th>\n",
              "      <td>0.9</td>\n",
              "      <td>17.3</td>\n",
              "      <td>18.7</td>\n",
              "      <td>57.5</td>\n",
              "      <td>5.6</td>\n",
              "    </tr>\n",
              "    <tr>\n",
              "      <th>04:00</th>\n",
              "      <td>0.9</td>\n",
              "      <td>12.9</td>\n",
              "      <td>14.3</td>\n",
              "      <td>60.9</td>\n",
              "      <td>1.4</td>\n",
              "    </tr>\n",
              "    <tr>\n",
              "      <th>...</th>\n",
              "      <th>...</th>\n",
              "      <th>...</th>\n",
              "      <td>...</td>\n",
              "      <td>...</td>\n",
              "      <td>...</td>\n",
              "      <td>...</td>\n",
              "      <td>...</td>\n",
              "    </tr>\n",
              "    <tr>\n",
              "      <th rowspan=\"5\" valign=\"top\">12</th>\n",
              "      <th rowspan=\"5\" valign=\"top\">31</th>\n",
              "      <th>19:00</th>\n",
              "      <td>10.4</td>\n",
              "      <td>47.4</td>\n",
              "      <td>NaN</td>\n",
              "      <td>32.1</td>\n",
              "      <td>11.2</td>\n",
              "    </tr>\n",
              "    <tr>\n",
              "      <th>20:00</th>\n",
              "      <td>11.4</td>\n",
              "      <td>52.0</td>\n",
              "      <td>NaN</td>\n",
              "      <td>29.9</td>\n",
              "      <td>11.5</td>\n",
              "    </tr>\n",
              "    <tr>\n",
              "      <th>21:00</th>\n",
              "      <td>9.4</td>\n",
              "      <td>48.2</td>\n",
              "      <td>NaN</td>\n",
              "      <td>30.1</td>\n",
              "      <td>11.8</td>\n",
              "    </tr>\n",
              "    <tr>\n",
              "      <th>22:00</th>\n",
              "      <td>7.9</td>\n",
              "      <td>40.9</td>\n",
              "      <td>NaN</td>\n",
              "      <td>35.7</td>\n",
              "      <td>11.3</td>\n",
              "    </tr>\n",
              "    <tr>\n",
              "      <th>23:00</th>\n",
              "      <td>10.0</td>\n",
              "      <td>42.8</td>\n",
              "      <td>NaN</td>\n",
              "      <td>34.9</td>\n",
              "      <td>13.8</td>\n",
              "    </tr>\n",
              "  </tbody>\n",
              "</table>\n",
              "<p>8760 rows × 5 columns</p>\n",
              "</div>"
            ],
            "text/plain": [
              "                Value                        \n",
              "Species            NO   NO2   NOX    O3  PM10\n",
              "Month Day Time                               \n",
              "01    01  00:00   2.5  14.6  18.5  59.8  11.4\n",
              "          01:00   1.9  17.3  20.2  53.6   8.9\n",
              "          02:00   1.8  17.5  20.3  54.5   6.9\n",
              "          03:00   0.9  17.3  18.7  57.5   5.6\n",
              "          04:00   0.9  12.9  14.3  60.9   1.4\n",
              "...               ...   ...   ...   ...   ...\n",
              "12    31  19:00  10.4  47.4   NaN  32.1  11.2\n",
              "          20:00  11.4  52.0   NaN  29.9  11.5\n",
              "          21:00   9.4  48.2   NaN  30.1  11.8\n",
              "          22:00   7.9  40.9   NaN  35.7  11.3\n",
              "          23:00  10.0  42.8   NaN  34.9  13.8\n",
              "\n",
              "[8760 rows x 5 columns]"
            ]
          },
          "execution_count": 55,
          "metadata": {},
          "output_type": "execute_result"
        }
      ],
      "source": [
        "air_df.unstack()"
      ]
    },
    {
      "cell_type": "code",
      "execution_count": null,
      "metadata": {
        "id": "6J7YafWd4RK4"
      },
      "outputs": [],
      "source": [
        "# Este metodo convierte los indices en columnas, en este caso la columna 'Species'\n",
        "# se convierte en columnas, por defecto, pero podria sea la columna\n",
        "# 'Time', 'Month' o 'Day' si se especifica."
      ]
    },
    {
      "cell_type": "markdown",
      "metadata": {
        "id": "eB15-Ozq4RK5"
      },
      "source": [
        "- Compara la salida del código anterior con pvt_df del Ejercicio 4. ¿Son básicamente iguales?\n",
        "\n",
        "- Explica cuáles son las diferencias y similitudes entre el par .melt()/.pivot() y el par .stack()/.unstack()?\n",
        "\n",
        "- Si tuvieras que elegir una contraparte para .melt() entre .stack()/.unstack() ¿cuál elegirías?"
      ]
    },
    {
      "cell_type": "code",
      "execution_count": null,
      "metadata": {
        "id": "_U0uqWK84RK5"
      },
      "outputs": [],
      "source": [
        "# 1. Las salidas son similares, lo unico es que en el ejercicio 5, dividimos las fechas \n",
        "# en diferentes indices.\n",
        "\n",
        "# 2. Melt es similar a Stack, que cambian el df de formato ancho a largo,\n",
        "# mientras que Pivot es similar a Unstack, que cambian el df de formato largo a ancho.\n",
        "\n",
        "# 3. Dicho lo dicho en la respuesta anterior, el contrario de melt, seria unstack.\n",
        "# Ya que al igual que pivot, cambia el formato de largo a ancho."
      ]
    }
  ],
  "metadata": {
    "colab": {
      "provenance": []
    },
    "kernelspec": {
      "display_name": "base",
      "language": "python",
      "name": "python3"
    },
    "language_info": {
      "codemirror_mode": {
        "name": "ipython",
        "version": 3
      },
      "file_extension": ".py",
      "mimetype": "text/x-python",
      "name": "python",
      "nbconvert_exporter": "python",
      "pygments_lexer": "ipython3",
      "version": "3.12.4"
    }
  },
  "nbformat": 4,
  "nbformat_minor": 0
}
