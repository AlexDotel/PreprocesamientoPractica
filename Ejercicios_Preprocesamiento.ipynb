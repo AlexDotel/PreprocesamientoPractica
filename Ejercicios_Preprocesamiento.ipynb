{
  "cells": [
    {
      "cell_type": "markdown",
      "metadata": {
        "id": "XXYzMwYH4RKh"
      },
      "source": [
        "# Ejercicio 1\n",
        "Utiliza el conjunto de datos adult.csv y ejecuta los códigos que se muestran en las siguientes capturas de pantalla. Luego responde las preguntas."
      ]
    },
    {
      "cell_type": "code",
      "execution_count": null,
      "metadata": {
        "id": "cOBlQn6e4RKi",
        "outputId": "e55b54aa-6279-4738-ea4b-dc2478185614"
      },
      "outputs": [
        {
          "name": "stdout",
          "output_type": "stream",
          "text": [
            "       age workclass\n",
            "10005   37   Private\n",
            "10006   49   Private\n",
            "       age         workclass  fnlwgt\n",
            "10005   37           Private  284582\n",
            "10006   49           Private  160187\n",
            "10007   52  Self-emp-not-inc  209642\n"
          ]
        },
        {
          "data": {
            "text/html": [
              "<div>\n",
              "<style scoped>\n",
              "    .dataframe tbody tr th:only-of-type {\n",
              "        vertical-align: middle;\n",
              "    }\n",
              "\n",
              "    .dataframe tbody tr th {\n",
              "        vertical-align: top;\n",
              "    }\n",
              "\n",
              "    .dataframe thead th {\n",
              "        text-align: right;\n",
              "    }\n",
              "</style>\n",
              "<table border=\"1\" class=\"dataframe\">\n",
              "  <thead>\n",
              "    <tr style=\"text-align: right;\">\n",
              "      <th></th>\n",
              "      <th>age</th>\n",
              "      <th>workclass</th>\n",
              "      <th>fnlwgt</th>\n",
              "      <th>education</th>\n",
              "      <th>education-num</th>\n",
              "      <th>marital-status</th>\n",
              "      <th>occupation</th>\n",
              "      <th>relationship</th>\n",
              "      <th>race</th>\n",
              "      <th>sex</th>\n",
              "      <th>capitalGain</th>\n",
              "      <th>capitalLoss</th>\n",
              "      <th>hoursPerWeek</th>\n",
              "      <th>nativeCountry</th>\n",
              "      <th>income</th>\n",
              "    </tr>\n",
              "  </thead>\n",
              "  <tbody>\n",
              "    <tr>\n",
              "      <th>10000</th>\n",
              "      <td>39</td>\n",
              "      <td>State-gov</td>\n",
              "      <td>77516</td>\n",
              "      <td>Bachelors</td>\n",
              "      <td>13</td>\n",
              "      <td>Never-married</td>\n",
              "      <td>Adm-clerical</td>\n",
              "      <td>Not-in-family</td>\n",
              "      <td>White</td>\n",
              "      <td>Male</td>\n",
              "      <td>2174</td>\n",
              "      <td>0</td>\n",
              "      <td>40</td>\n",
              "      <td>United-States</td>\n",
              "      <td>&lt;=50K</td>\n",
              "    </tr>\n",
              "    <tr>\n",
              "      <th>10001</th>\n",
              "      <td>50</td>\n",
              "      <td>Self-emp-not-inc</td>\n",
              "      <td>83311</td>\n",
              "      <td>Bachelors</td>\n",
              "      <td>13</td>\n",
              "      <td>Married-civ-spouse</td>\n",
              "      <td>Exec-managerial</td>\n",
              "      <td>Husband</td>\n",
              "      <td>White</td>\n",
              "      <td>Male</td>\n",
              "      <td>0</td>\n",
              "      <td>0</td>\n",
              "      <td>13</td>\n",
              "      <td>United-States</td>\n",
              "      <td>&lt;=50K</td>\n",
              "    </tr>\n",
              "    <tr>\n",
              "      <th>10002</th>\n",
              "      <td>38</td>\n",
              "      <td>Private</td>\n",
              "      <td>215646</td>\n",
              "      <td>HS-grad</td>\n",
              "      <td>9</td>\n",
              "      <td>Divorced</td>\n",
              "      <td>Handlers-cleaners</td>\n",
              "      <td>Not-in-family</td>\n",
              "      <td>White</td>\n",
              "      <td>Male</td>\n",
              "      <td>0</td>\n",
              "      <td>0</td>\n",
              "      <td>40</td>\n",
              "      <td>United-States</td>\n",
              "      <td>&lt;=50K</td>\n",
              "    </tr>\n",
              "    <tr>\n",
              "      <th>10003</th>\n",
              "      <td>53</td>\n",
              "      <td>Private</td>\n",
              "      <td>234721</td>\n",
              "      <td>11th</td>\n",
              "      <td>7</td>\n",
              "      <td>Married-civ-spouse</td>\n",
              "      <td>Handlers-cleaners</td>\n",
              "      <td>Husband</td>\n",
              "      <td>Black</td>\n",
              "      <td>Male</td>\n",
              "      <td>0</td>\n",
              "      <td>0</td>\n",
              "      <td>40</td>\n",
              "      <td>United-States</td>\n",
              "      <td>&lt;=50K</td>\n",
              "    </tr>\n",
              "    <tr>\n",
              "      <th>10004</th>\n",
              "      <td>28</td>\n",
              "      <td>Private</td>\n",
              "      <td>338409</td>\n",
              "      <td>Bachelors</td>\n",
              "      <td>13</td>\n",
              "      <td>Married-civ-spouse</td>\n",
              "      <td>Prof-specialty</td>\n",
              "      <td>Wife</td>\n",
              "      <td>Black</td>\n",
              "      <td>Female</td>\n",
              "      <td>0</td>\n",
              "      <td>0</td>\n",
              "      <td>40</td>\n",
              "      <td>Cuba</td>\n",
              "      <td>&lt;=50K</td>\n",
              "    </tr>\n",
              "    <tr>\n",
              "      <th>...</th>\n",
              "      <td>...</td>\n",
              "      <td>...</td>\n",
              "      <td>...</td>\n",
              "      <td>...</td>\n",
              "      <td>...</td>\n",
              "      <td>...</td>\n",
              "      <td>...</td>\n",
              "      <td>...</td>\n",
              "      <td>...</td>\n",
              "      <td>...</td>\n",
              "      <td>...</td>\n",
              "      <td>...</td>\n",
              "      <td>...</td>\n",
              "      <td>...</td>\n",
              "      <td>...</td>\n",
              "    </tr>\n",
              "    <tr>\n",
              "      <th>42556</th>\n",
              "      <td>27</td>\n",
              "      <td>Private</td>\n",
              "      <td>257302</td>\n",
              "      <td>Assoc-acdm</td>\n",
              "      <td>12</td>\n",
              "      <td>Married-civ-spouse</td>\n",
              "      <td>Tech-support</td>\n",
              "      <td>Wife</td>\n",
              "      <td>White</td>\n",
              "      <td>Female</td>\n",
              "      <td>0</td>\n",
              "      <td>0</td>\n",
              "      <td>38</td>\n",
              "      <td>United-States</td>\n",
              "      <td>&lt;=50K</td>\n",
              "    </tr>\n",
              "    <tr>\n",
              "      <th>42557</th>\n",
              "      <td>40</td>\n",
              "      <td>Private</td>\n",
              "      <td>154374</td>\n",
              "      <td>HS-grad</td>\n",
              "      <td>9</td>\n",
              "      <td>Married-civ-spouse</td>\n",
              "      <td>Machine-op-inspct</td>\n",
              "      <td>Husband</td>\n",
              "      <td>White</td>\n",
              "      <td>Male</td>\n",
              "      <td>0</td>\n",
              "      <td>0</td>\n",
              "      <td>40</td>\n",
              "      <td>United-States</td>\n",
              "      <td>&gt;50K</td>\n",
              "    </tr>\n",
              "    <tr>\n",
              "      <th>42558</th>\n",
              "      <td>58</td>\n",
              "      <td>Private</td>\n",
              "      <td>151910</td>\n",
              "      <td>HS-grad</td>\n",
              "      <td>9</td>\n",
              "      <td>Widowed</td>\n",
              "      <td>Adm-clerical</td>\n",
              "      <td>Unmarried</td>\n",
              "      <td>White</td>\n",
              "      <td>Female</td>\n",
              "      <td>0</td>\n",
              "      <td>0</td>\n",
              "      <td>40</td>\n",
              "      <td>United-States</td>\n",
              "      <td>&lt;=50K</td>\n",
              "    </tr>\n",
              "    <tr>\n",
              "      <th>42559</th>\n",
              "      <td>22</td>\n",
              "      <td>Private</td>\n",
              "      <td>201490</td>\n",
              "      <td>HS-grad</td>\n",
              "      <td>9</td>\n",
              "      <td>Never-married</td>\n",
              "      <td>Adm-clerical</td>\n",
              "      <td>Own-child</td>\n",
              "      <td>White</td>\n",
              "      <td>Male</td>\n",
              "      <td>0</td>\n",
              "      <td>0</td>\n",
              "      <td>20</td>\n",
              "      <td>United-States</td>\n",
              "      <td>&lt;=50K</td>\n",
              "    </tr>\n",
              "    <tr>\n",
              "      <th>42560</th>\n",
              "      <td>52</td>\n",
              "      <td>Self-emp-inc</td>\n",
              "      <td>287927</td>\n",
              "      <td>HS-grad</td>\n",
              "      <td>9</td>\n",
              "      <td>Married-civ-spouse</td>\n",
              "      <td>Exec-managerial</td>\n",
              "      <td>Wife</td>\n",
              "      <td>White</td>\n",
              "      <td>Female</td>\n",
              "      <td>15024</td>\n",
              "      <td>0</td>\n",
              "      <td>40</td>\n",
              "      <td>United-States</td>\n",
              "      <td>&gt;50K</td>\n",
              "    </tr>\n",
              "  </tbody>\n",
              "</table>\n",
              "<p>32561 rows × 15 columns</p>\n",
              "</div>"
            ],
            "text/plain": [
              "       age         workclass  fnlwgt   education  education-num  \\\n",
              "10000   39         State-gov   77516   Bachelors             13   \n",
              "10001   50  Self-emp-not-inc   83311   Bachelors             13   \n",
              "10002   38           Private  215646     HS-grad              9   \n",
              "10003   53           Private  234721        11th              7   \n",
              "10004   28           Private  338409   Bachelors             13   \n",
              "...    ...               ...     ...         ...            ...   \n",
              "42556   27           Private  257302  Assoc-acdm             12   \n",
              "42557   40           Private  154374     HS-grad              9   \n",
              "42558   58           Private  151910     HS-grad              9   \n",
              "42559   22           Private  201490     HS-grad              9   \n",
              "42560   52      Self-emp-inc  287927     HS-grad              9   \n",
              "\n",
              "           marital-status         occupation   relationship   race     sex  \\\n",
              "10000       Never-married       Adm-clerical  Not-in-family  White    Male   \n",
              "10001  Married-civ-spouse    Exec-managerial        Husband  White    Male   \n",
              "10002            Divorced  Handlers-cleaners  Not-in-family  White    Male   \n",
              "10003  Married-civ-spouse  Handlers-cleaners        Husband  Black    Male   \n",
              "10004  Married-civ-spouse     Prof-specialty           Wife  Black  Female   \n",
              "...                   ...                ...            ...    ...     ...   \n",
              "42556  Married-civ-spouse       Tech-support           Wife  White  Female   \n",
              "42557  Married-civ-spouse  Machine-op-inspct        Husband  White    Male   \n",
              "42558             Widowed       Adm-clerical      Unmarried  White  Female   \n",
              "42559       Never-married       Adm-clerical      Own-child  White    Male   \n",
              "42560  Married-civ-spouse    Exec-managerial           Wife  White  Female   \n",
              "\n",
              "       capitalGain  capitalLoss  hoursPerWeek  nativeCountry income  \n",
              "10000         2174            0            40  United-States  <=50K  \n",
              "10001            0            0            13  United-States  <=50K  \n",
              "10002            0            0            40  United-States  <=50K  \n",
              "10003            0            0            40  United-States  <=50K  \n",
              "10004            0            0            40           Cuba  <=50K  \n",
              "...            ...          ...           ...            ...    ...  \n",
              "42556            0            0            38  United-States  <=50K  \n",
              "42557            0            0            40  United-States   >50K  \n",
              "42558            0            0            40  United-States  <=50K  \n",
              "42559            0            0            20  United-States  <=50K  \n",
              "42560        15024            0            40  United-States   >50K  \n",
              "\n",
              "[32561 rows x 15 columns]"
            ]
          },
          "execution_count": 9,
          "metadata": {},
          "output_type": "execute_result"
        }
      ],
      "source": [
        "import pandas as pd\n",
        "import numpy as np\n",
        "adult_df = pd.read_csv('adult.csv')\n",
        "adult_df.set_index(np.arange(10000,42561),inplace=True)\n",
        "\n",
        "\n",
        "print(adult_df.iloc[5:7,0:2])\n",
        "\n",
        "print(adult_df.loc['10005':'10007','age':'fnlwgt'])\n",
        "\n",
        "adult_df"
      ]
    },
    {
      "cell_type": "markdown",
      "metadata": {
        "id": "zvYVMx0b4RKk"
      },
      "source": [
        "- Utiliza la salida para responder cuál es la diferencia en el comportamiento de .loc e .iloc cuando se trata de cortar.\n",
        "\n",
        "- Sin ejecutar, pero solo mirando los datos, ¿cuál será la salida de adult_df.loc['10000':'10003', 'relationship':'sex']?\n",
        "\n",
        "- Sin ejecutar, pero solo mirando los datos, ¿cuál será la salida de adult_df.iloc[0:3, 7:9]?\n",
        "\n"
      ]
    },
    {
      "cell_type": "code",
      "execution_count": 16,
      "metadata": {
        "id": "Ed-L6ztk4RKk"
      },
      "outputs": [],
      "source": [
        "#Loc incluye el ultimo indice, iloc no, ademas loc se llama con el nombre de la etiqueta, a diferencia de iloc, y loc soporta condiciones booleanas o de verdadero o falso, iloc no.\n",
        "\n",
        "#Salida loc ↓\n",
        "#         relationship\trace\tsex\n",
        "# 10000\tNot-in-family\tWhite\tMale\n",
        "# 10001\tHusband\t        White\tMale\n",
        "# 10002\tNot-in-family\tWhite\tMale\n",
        "# 10003\tHusband\t        Black\tMale\n",
        "\n",
        "#Salida iloc ↓\n",
        "#         relationship\trace\t\n",
        "# 10000\tNot-in-family\tWhite\t\n",
        "# 10001\tHusband\t        White\t\n",
        "# 10002\tNot-in-family\tWhite\t"
      ]
    },
    {
      "cell_type": "markdown",
      "metadata": {
        "id": "AXfFrM5R4RKl"
      },
      "source": [
        "# Ejercicio 2\n",
        "Para adult_df usa la función .groupby() para ejecutar el siguiente código y crear la serie de índices múltiples mlt_sr."
      ]
    },
    {
      "cell_type": "code",
      "execution_count": 20,
      "metadata": {
        "id": "0SK7cD6h4RKl",
        "outputId": "c1025f2d-d12e-43a2-aa77-9b43551c25c7"
      },
      "outputs": [
        {
          "data": {
            "text/plain": [
              "race                sex     income\n",
              "Amer-Indian-Eskimo  Female  <=50K     109018.626168\n",
              "                            >50K      148012.000000\n",
              "                    Male    <=50K     126428.767857\n",
              "                            >50K      120721.541667\n",
              "Asian-Pac-Islander  Female  <=50K     148165.333333\n",
              "                            >50K      142426.093023\n",
              "                    Male    <=50K     163885.130435\n",
              "                            >50K      170698.347639\n",
              "Black               Female  <=50K     213411.580205\n",
              "                            >50K      205806.033333\n",
              "                    Male    <=50K     242343.990566\n",
              "                            >50K      245390.356902\n",
              "Other               Female  <=50K     173235.932039\n",
              "                            >50K      160223.333333\n",
              "                    Male    <=50K     214891.832168\n",
              "                            >50K      204551.736842\n",
              "White               Female  <=50K     183485.120961\n",
              "                            >50K      184030.255837\n",
              "                    Male    <=50K     189950.465418\n",
              "                            >50K      186917.770077\n",
              "Name: fnlwgt, dtype: float64"
            ]
          },
          "execution_count": 20,
          "metadata": {},
          "output_type": "execute_result"
        }
      ],
      "source": [
        "import pandas as pd\n",
        "\n",
        "adult_df = pd.read_csv('adult.csv')\n",
        "mlt_seris =adult_df.groupby(['race','sex','income']).fnlwgt.mean()\n",
        "mlt_seris"
      ]
    },
    {
      "cell_type": "markdown",
      "metadata": {
        "id": "GDIW5dy14RKm"
      },
      "source": [
        "Ahora que has creado una serie de índices múltiples, ejecuta los siguientes códigos, estudia las salidas y responde las preguntas.\n",
        "\n",
        "- Ejecuta el código a continuación primero y luego responde lo siguiente. Cuando usamos .iloc[] para una serie o DataFrame de índices múltiples, ¿qué deberíamos esperar?"
      ]
    },
    {
      "cell_type": "code",
      "execution_count": 21,
      "metadata": {
        "id": "EYSdKuKN4RKn",
        "outputId": "a94c4abf-22dd-4869-a93b-d768bfb0b572"
      },
      "outputs": [
        {
          "name": "stdout",
          "output_type": "stream",
          "text": [
            "109018.6261682243\n",
            "148012.0\n",
            "126428.76785714286\n"
          ]
        }
      ],
      "source": [
        "print(mlt_seris.iloc[0])\n",
        "print(mlt_seris.iloc[1])\n",
        "print(mlt_seris.iloc[2])"
      ]
    },
    {
      "cell_type": "code",
      "execution_count": null,
      "metadata": {
        "id": "rSv46M8_4RKp"
      },
      "outputs": [
        {
          "name": "stdout",
          "output_type": "stream",
          "text": [
            "<class 'numpy.float64'>\n"
          ]
        }
      ],
      "source": [
        "# El resultado o valor de la serie. En este caso la media de la columna fnlwgt, que son floats."
      ]
    },
    {
      "cell_type": "markdown",
      "metadata": {
        "id": "JSvgKkW44RKq"
      },
      "source": [
        "- Ejecuta el código a continuación primero y luego responde lo siguiente. Cuando usamos .loc[] para acceder a los datos de uno de los niveles de índice más internos de la serie de índices múltiples, ¿qué deberíamos esperar?\n",
        "\n"
      ]
    },
    {
      "cell_type": "code",
      "execution_count": null,
      "metadata": {
        "id": "c_S7G0Mv4RKq",
        "outputId": "05e49f60-fdb8-4086-8157-6cb0ec45881e"
      },
      "outputs": [
        {
          "name": "stdout",
          "output_type": "stream",
          "text": [
            "<class 'pandas.core.series.Series'>\n"
          ]
        }
      ],
      "source": [
        "mlt_seris.loc['Other']"
      ]
    },
    {
      "cell_type": "code",
      "execution_count": null,
      "metadata": {
        "id": "OfNQ2DPN4RKr"
      },
      "outputs": [],
      "source": [
        "# La serie o subserie resultante, incluyendo los sub indices de other en este caso."
      ]
    },
    {
      "cell_type": "markdown",
      "metadata": {
        "id": "YM0mJXJJ4RKr"
      },
      "source": [
        "- Ejecuta los códigos a continuación primero y luego responde lo siguiente. Cuando usamos .loc[] para acceder a los datos de uno de los niveles de índice no más internos de la serie de índices múltiples, ¿qué deberíamos esperar?\n",
        "\n",
        "Cuando ejecutes cualquiera de las líneas de código a continuación, obtendrás un error y ese es el punto de esta pregunta. Estudia el error e intenta responder la pregunta."
      ]
    },
    {
      "cell_type": "code",
      "execution_count": null,
      "metadata": {
        "id": "k7x-bWm-4RKr"
      },
      "outputs": [
        {
          "data": {
            "text/plain": [
              "race                income\n",
              "Amer-Indian-Eskimo  <=50K     109018.626168\n",
              "                    >50K      148012.000000\n",
              "Asian-Pac-Islander  <=50K     148165.333333\n",
              "                    >50K      142426.093023\n",
              "Black               <=50K     213411.580205\n",
              "                    >50K      205806.033333\n",
              "Other               <=50K     173235.932039\n",
              "                    >50K      160223.333333\n",
              "White               <=50K     183485.120961\n",
              "                    >50K      184030.255837\n",
              "Name: fnlwgt, dtype: float64"
            ]
          },
          "execution_count": 33,
          "metadata": {},
          "output_type": "execute_result"
        }
      ],
      "source": [
        "mlt_seris.loc[:,'Female'] \n",
        "#Da error porque 'Female' no es un indice, sino un subindice de la serie. \n",
        "# hay que especificar los indices anteriores para acceder a los subindices."
      ]
    },
    {
      "cell_type": "code",
      "execution_count": null,
      "metadata": {
        "id": "JrNvTIwb4RKs"
      },
      "outputs": [
        {
          "data": {
            "text/plain": [
              "213411.58020477815"
            ]
          },
          "execution_count": 47,
          "metadata": {},
          "output_type": "execute_result"
        }
      ],
      "source": [
        "mlt_seris.loc[('Black', 'Female', '<=50K')]\n",
        "#Lo mismo pero en este caso al ser de 3er nivel, hay que nombrar cada uno de los indices\n",
        "# anteriores, en este caso 'Black' y Female, como si de una ruta se tratase."
      ]
    },
    {
      "cell_type": "code",
      "execution_count": null,
      "metadata": {
        "id": "biYDWRC34RKs"
      },
      "outputs": [],
      "source": []
    },
    {
      "cell_type": "markdown",
      "metadata": {
        "id": "TI3d03cb4RKs"
      },
      "source": [
        "- Ejecuta los códigos a continuación primero y luego responde lo siguiente. ¿En qué se diferencia el uso de .loc[] o .iloc[] cuando se trabaja con una serie de índices múltiples o un DataFrame?\n",
        "\n"
      ]
    },
    {
      "cell_type": "code",
      "execution_count": null,
      "metadata": {
        "id": "oA-WlIRs4RKs",
        "outputId": "b3cf0bc9-271a-4fb9-8458-eee0bcbb148f"
      },
      "outputs": [
        {
          "name": "stdout",
          "output_type": "stream",
          "text": [
            "173235.93203883496\n",
            "173235.93203883496\n"
          ]
        }
      ],
      "source": [
        "print(mlt_seris.loc['Other']['Female']['<=50K'])\n",
        "print(mlt_seris.iloc[12])"
      ]
    },
    {
      "cell_type": "code",
      "execution_count": null,
      "metadata": {
        "id": "kXrjt5KZ4RKt"
      },
      "outputs": [],
      "source": []
    },
    {
      "cell_type": "markdown",
      "metadata": {
        "id": "QOcGBf2R4RKt"
      },
      "source": [
        "# Ejercicio 3\n",
        "Para este ejercicio, debe utilizar un nuevo conjunto de datos: billboard.csv. Visite https://www.billboard.com/charts/hot-100 y vea las clasificaciones de canciones más recientes del día. Este conjunto de datos presenta información y clasificación de 317 pistas de canciones en 80 columnas. Las primeras cuatro columnas son artista, pista, hora y date_e. Las primeras columnas son descripciones intuitivas de las pistas de canciones. La columna date_e muestra la fecha en que las canciones ingresaron a la lista hot-100. Las 76 columnas restantes son las clasificaciones de canciones al final de cada semana desde 'w1' hasta 'w76'. Descargue y lea este conjunto de datos con pandas y responda las siguientes preguntas."
      ]
    },
    {
      "cell_type": "code",
      "execution_count": null,
      "metadata": {
        "id": "JTOV0AbI4RKt"
      },
      "outputs": [],
      "source": []
    },
    {
      "cell_type": "markdown",
      "metadata": {
        "id": "t3ppU3_w4RKt"
      },
      "source": [
        "- Escribe una línea de código que te dé una gran idea de cuántos valores nulos tiene cada columna. Si hay alguna columna que no tenga valores no nulos, elimínala.\n",
        "\n"
      ]
    },
    {
      "cell_type": "code",
      "execution_count": null,
      "metadata": {
        "id": "_qHbzD-r4RKt"
      },
      "outputs": [],
      "source": []
    },
    {
      "cell_type": "markdown",
      "metadata": {
        "id": "6CWvfEL14RKt"
      },
      "source": [
        "- Con un bucle for, dibuja y estudia los valores en cada una de las columnas W restantes.\n",
        "\n"
      ]
    },
    {
      "cell_type": "code",
      "execution_count": null,
      "metadata": {
        "id": "8YhWD7b_4RKt"
      },
      "outputs": [],
      "source": []
    },
    {
      "cell_type": "markdown",
      "metadata": {
        "id": "zcOUSnKN4RKu"
      },
      "source": [
        "- El conjunto de datos está en formato ancho, usa una función apropiada para cambiar a un formato largo y nombra el dataframe fundido mlt_df.\n",
        "\n"
      ]
    },
    {
      "cell_type": "code",
      "execution_count": null,
      "metadata": {
        "id": "eqN6rSuM4RKu"
      },
      "outputs": [],
      "source": []
    },
    {
      "cell_type": "markdown",
      "metadata": {
        "id": "Tp-sJgha4RKu"
      },
      "source": [
        "- Escribe un código que muestre mlt_df cada 1200 filas.\n",
        "\n"
      ]
    },
    {
      "cell_type": "code",
      "execution_count": null,
      "metadata": {
        "id": "GXuPHbSs4RKu"
      },
      "outputs": [],
      "source": []
    },
    {
      "cell_type": "markdown",
      "metadata": {
        "id": "hkCOcN1i4RKv"
      },
      "source": [
        "- Ejecuta el siguiente código primero y responde la pregunta. ¿Podrías haber hecho esto usando también el enmascaramiento booleano?\n",
        "\n"
      ]
    },
    {
      "cell_type": "code",
      "execution_count": null,
      "metadata": {
        "id": "AZjk6NJx4RKv"
      },
      "outputs": [],
      "source": [
        "mlt_df.query('artist == \"Spears, Britney\"')"
      ]
    },
    {
      "cell_type": "markdown",
      "metadata": {
        "id": "WSnawEw54RKv"
      },
      "source": [
        "¿Se podría haber hecho esto utilizando también el enmascaramiento booleano?\n",
        "\n"
      ]
    },
    {
      "cell_type": "markdown",
      "metadata": {
        "id": "zChFd8k54RKv"
      },
      "source": [
        "Answer:"
      ]
    },
    {
      "cell_type": "code",
      "execution_count": null,
      "metadata": {
        "id": "vRxlEOg84RKv"
      },
      "outputs": [],
      "source": []
    },
    {
      "cell_type": "markdown",
      "metadata": {
        "id": "7wheet0U4RKw"
      },
      "source": [
        "- Utiliza el enfoque en e o la máscara booleana para extraer todas las canciones únicas que Britney Spears tiene en este conjunto de datos.\n",
        "\n"
      ]
    },
    {
      "cell_type": "code",
      "execution_count": null,
      "metadata": {
        "id": "7F0cyxR74RKx"
      },
      "outputs": [],
      "source": []
    },
    {
      "cell_type": "markdown",
      "metadata": {
        "id": "lEc2keVM4RKx"
      },
      "source": [
        "- En mlt_df muestra todas las semanas que la canción \"Oops!.. I Did It Again\" estuvo en el top-100\n",
        "\n"
      ]
    },
    {
      "cell_type": "code",
      "execution_count": null,
      "metadata": {
        "id": "Ciz_RKvB4RKx"
      },
      "outputs": [],
      "source": []
    },
    {
      "cell_type": "markdown",
      "metadata": {
        "id": "0mEEGY8D4RKy"
      },
      "source": [
        "# Ejercicio 4\n",
        "\n",
        "Para este ejercicio, utilizaremos LaqnData.csv. Cada fila de este conjunto de datos muestra un registro de medición por hora de uno de los cinco siguientes contaminantes del aire: NO, NO2, NOX, PM10 y PM2,5. Los datos se recopilaron en una ubicación de Londres durante todo el año 2017. Lea los datos con Pandas y realice las siguientes tareas."
      ]
    },
    {
      "cell_type": "code",
      "execution_count": null,
      "metadata": {
        "id": "HkFc-ToX4RKy",
        "outputId": "66258ef7-f02d-4056-adc8-44727e4645e1"
      },
      "outputs": [
        {
          "data": {
            "text/html": [
              "<div>\n",
              "<style scoped>\n",
              "    .dataframe tbody tr th:only-of-type {\n",
              "        vertical-align: middle;\n",
              "    }\n",
              "\n",
              "    .dataframe tbody tr th {\n",
              "        vertical-align: top;\n",
              "    }\n",
              "\n",
              "    .dataframe thead th {\n",
              "        text-align: right;\n",
              "    }\n",
              "</style>\n",
              "<table border=\"1\" class=\"dataframe\">\n",
              "  <thead>\n",
              "    <tr style=\"text-align: right;\">\n",
              "      <th></th>\n",
              "      <th>Site</th>\n",
              "      <th>Species</th>\n",
              "      <th>ReadingDateTime</th>\n",
              "      <th>Value</th>\n",
              "      <th>Units</th>\n",
              "      <th>Provisional or Ratified</th>\n",
              "    </tr>\n",
              "  </thead>\n",
              "  <tbody>\n",
              "    <tr>\n",
              "      <th>0</th>\n",
              "      <td>CT3</td>\n",
              "      <td>NO</td>\n",
              "      <td>01/01/2017 00:00</td>\n",
              "      <td>3.5</td>\n",
              "      <td>ug m-3</td>\n",
              "      <td>R</td>\n",
              "    </tr>\n",
              "    <tr>\n",
              "      <th>1</th>\n",
              "      <td>CT3</td>\n",
              "      <td>NO</td>\n",
              "      <td>01/01/2017 01:00</td>\n",
              "      <td>3.6</td>\n",
              "      <td>ug m-3</td>\n",
              "      <td>R</td>\n",
              "    </tr>\n",
              "    <tr>\n",
              "      <th>2</th>\n",
              "      <td>CT3</td>\n",
              "      <td>NO</td>\n",
              "      <td>01/01/2017 02:00</td>\n",
              "      <td>2.2</td>\n",
              "      <td>ug m-3</td>\n",
              "      <td>R</td>\n",
              "    </tr>\n",
              "    <tr>\n",
              "      <th>3</th>\n",
              "      <td>CT3</td>\n",
              "      <td>NO</td>\n",
              "      <td>01/01/2017 03:00</td>\n",
              "      <td>2.1</td>\n",
              "      <td>ug m-3</td>\n",
              "      <td>R</td>\n",
              "    </tr>\n",
              "    <tr>\n",
              "      <th>4</th>\n",
              "      <td>CT3</td>\n",
              "      <td>NO</td>\n",
              "      <td>01/01/2017 04:00</td>\n",
              "      <td>3.3</td>\n",
              "      <td>ug m-3</td>\n",
              "      <td>R</td>\n",
              "    </tr>\n",
              "    <tr>\n",
              "      <th>...</th>\n",
              "      <td>...</td>\n",
              "      <td>...</td>\n",
              "      <td>...</td>\n",
              "      <td>...</td>\n",
              "      <td>...</td>\n",
              "      <td>...</td>\n",
              "    </tr>\n",
              "    <tr>\n",
              "      <th>43795</th>\n",
              "      <td>CT3</td>\n",
              "      <td>PM2.5</td>\n",
              "      <td>31/12/2017 19:00</td>\n",
              "      <td>-2.0</td>\n",
              "      <td>ug m-3</td>\n",
              "      <td>R</td>\n",
              "    </tr>\n",
              "    <tr>\n",
              "      <th>43796</th>\n",
              "      <td>CT3</td>\n",
              "      <td>PM2.5</td>\n",
              "      <td>31/12/2017 20:00</td>\n",
              "      <td>6.0</td>\n",
              "      <td>ug m-3</td>\n",
              "      <td>R</td>\n",
              "    </tr>\n",
              "    <tr>\n",
              "      <th>43797</th>\n",
              "      <td>CT3</td>\n",
              "      <td>PM2.5</td>\n",
              "      <td>31/12/2017 21:00</td>\n",
              "      <td>5.0</td>\n",
              "      <td>ug m-3</td>\n",
              "      <td>R</td>\n",
              "    </tr>\n",
              "    <tr>\n",
              "      <th>43798</th>\n",
              "      <td>CT3</td>\n",
              "      <td>PM2.5</td>\n",
              "      <td>31/12/2017 22:00</td>\n",
              "      <td>5.0</td>\n",
              "      <td>ug m-3</td>\n",
              "      <td>R</td>\n",
              "    </tr>\n",
              "    <tr>\n",
              "      <th>43799</th>\n",
              "      <td>CT3</td>\n",
              "      <td>PM2.5</td>\n",
              "      <td>31/12/2017 23:00</td>\n",
              "      <td>6.0</td>\n",
              "      <td>ug m-3</td>\n",
              "      <td>R</td>\n",
              "    </tr>\n",
              "  </tbody>\n",
              "</table>\n",
              "<p>43800 rows × 6 columns</p>\n",
              "</div>"
            ],
            "text/plain": [
              "      Site Species   ReadingDateTime  Value   Units Provisional or Ratified\n",
              "0      CT3      NO  01/01/2017 00:00    3.5  ug m-3                       R\n",
              "1      CT3      NO  01/01/2017 01:00    3.6  ug m-3                       R\n",
              "2      CT3      NO  01/01/2017 02:00    2.2  ug m-3                       R\n",
              "3      CT3      NO  01/01/2017 03:00    2.1  ug m-3                       R\n",
              "4      CT3      NO  01/01/2017 04:00    3.3  ug m-3                       R\n",
              "...    ...     ...               ...    ...     ...                     ...\n",
              "43795  CT3   PM2.5  31/12/2017 19:00   -2.0  ug m-3                       R\n",
              "43796  CT3   PM2.5  31/12/2017 20:00    6.0  ug m-3                       R\n",
              "43797  CT3   PM2.5  31/12/2017 21:00    5.0  ug m-3                       R\n",
              "43798  CT3   PM2.5  31/12/2017 22:00    5.0  ug m-3                       R\n",
              "43799  CT3   PM2.5  31/12/2017 23:00    6.0  ug m-3                       R\n",
              "\n",
              "[43800 rows x 6 columns]"
            ]
          },
          "execution_count": 20,
          "metadata": {},
          "output_type": "execute_result"
        }
      ],
      "source": [
        "import pandas as pd\n",
        "import matplotlib.pyplot as plt\n",
        "\n",
        "air_df = pd.read_csv('LaqnData.csv')\n",
        "air_df"
      ]
    },
    {
      "cell_type": "markdown",
      "metadata": {
        "id": "c70Sy_4-4RKz"
      },
      "source": [
        "- El conjunto de datos tiene 6 columnas. Tres de ellas, llamadas 'Site','Units','Provisional or Ratified' no añaden ningún valor informativo, ya que son las mismas en todo el conjunto de datos. Utiliza el siguiente código para eliminarlas.\n",
        "\n"
      ]
    },
    {
      "cell_type": "code",
      "execution_count": null,
      "metadata": {
        "id": "ugpHy6Nm4RKz"
      },
      "outputs": [],
      "source": [
        "air_df.drop(columns=['Site','Units','Provisional or Ratified'], inplace=True)"
      ]
    },
    {
      "cell_type": "markdown",
      "metadata": {
        "id": "OPjo_p334RKz"
      },
      "source": [
        "- El conjunto de datos está en formato largo. Aplica la función adecuada para cambiarlo al formato ancho. Nombra el DataFrame transformado, pvt_df.\n",
        "\n"
      ]
    },
    {
      "cell_type": "code",
      "execution_count": null,
      "metadata": {
        "id": "rQa3rIWo4RKz"
      },
      "outputs": [],
      "source": []
    },
    {
      "cell_type": "markdown",
      "metadata": {
        "id": "ahuPgcTR4RK0"
      },
      "source": [
        "- Dibuja y estudia el histograma y los diagramas de caja para las columnas de pvt_df.\n",
        "\n"
      ]
    },
    {
      "cell_type": "code",
      "execution_count": null,
      "metadata": {
        "id": "ApJcHJeG4RK0"
      },
      "outputs": [],
      "source": []
    },
    {
      "cell_type": "markdown",
      "metadata": {
        "id": "N484_qd54RK0"
      },
      "source": [
        "# Ejercicio 5\n",
        "\n",
        "Seguiremos trabajando con Law Data.csv.\n",
        "\n",
        "- Ejecuta el siguiente código, observa su salida y luego estudia el código para responder qué hace cada línea de este código."
      ]
    },
    {
      "cell_type": "code",
      "execution_count": null,
      "metadata": {
        "id": "w_Z-Yeq34RK0",
        "outputId": "0a10144c-33c6-452c-aefa-eaed3b73192b"
      },
      "outputs": [
        {
          "data": {
            "text/html": [
              "<div>\n",
              "<style scoped>\n",
              "    .dataframe tbody tr th:only-of-type {\n",
              "        vertical-align: middle;\n",
              "    }\n",
              "\n",
              "    .dataframe tbody tr th {\n",
              "        vertical-align: top;\n",
              "    }\n",
              "\n",
              "    .dataframe thead th {\n",
              "        text-align: right;\n",
              "    }\n",
              "</style>\n",
              "<table border=\"1\" class=\"dataframe\">\n",
              "  <thead>\n",
              "    <tr style=\"text-align: right;\">\n",
              "      <th></th>\n",
              "      <th>Species</th>\n",
              "      <th>Value</th>\n",
              "      <th>Day</th>\n",
              "      <th>Month</th>\n",
              "      <th>Time</th>\n",
              "    </tr>\n",
              "  </thead>\n",
              "  <tbody>\n",
              "    <tr>\n",
              "      <th>0</th>\n",
              "      <td>NO</td>\n",
              "      <td>3.5</td>\n",
              "      <td>01</td>\n",
              "      <td>01</td>\n",
              "      <td>00:00</td>\n",
              "    </tr>\n",
              "    <tr>\n",
              "      <th>1</th>\n",
              "      <td>NO</td>\n",
              "      <td>3.6</td>\n",
              "      <td>01</td>\n",
              "      <td>01</td>\n",
              "      <td>01:00</td>\n",
              "    </tr>\n",
              "    <tr>\n",
              "      <th>2</th>\n",
              "      <td>NO</td>\n",
              "      <td>2.2</td>\n",
              "      <td>01</td>\n",
              "      <td>01</td>\n",
              "      <td>02:00</td>\n",
              "    </tr>\n",
              "    <tr>\n",
              "      <th>3</th>\n",
              "      <td>NO</td>\n",
              "      <td>2.1</td>\n",
              "      <td>01</td>\n",
              "      <td>01</td>\n",
              "      <td>03:00</td>\n",
              "    </tr>\n",
              "    <tr>\n",
              "      <th>4</th>\n",
              "      <td>NO</td>\n",
              "      <td>3.3</td>\n",
              "      <td>01</td>\n",
              "      <td>01</td>\n",
              "      <td>04:00</td>\n",
              "    </tr>\n",
              "    <tr>\n",
              "      <th>...</th>\n",
              "      <td>...</td>\n",
              "      <td>...</td>\n",
              "      <td>...</td>\n",
              "      <td>...</td>\n",
              "      <td>...</td>\n",
              "    </tr>\n",
              "    <tr>\n",
              "      <th>43795</th>\n",
              "      <td>PM2.5</td>\n",
              "      <td>-2.0</td>\n",
              "      <td>31</td>\n",
              "      <td>12</td>\n",
              "      <td>19:00</td>\n",
              "    </tr>\n",
              "    <tr>\n",
              "      <th>43796</th>\n",
              "      <td>PM2.5</td>\n",
              "      <td>6.0</td>\n",
              "      <td>31</td>\n",
              "      <td>12</td>\n",
              "      <td>20:00</td>\n",
              "    </tr>\n",
              "    <tr>\n",
              "      <th>43797</th>\n",
              "      <td>PM2.5</td>\n",
              "      <td>5.0</td>\n",
              "      <td>31</td>\n",
              "      <td>12</td>\n",
              "      <td>21:00</td>\n",
              "    </tr>\n",
              "    <tr>\n",
              "      <th>43798</th>\n",
              "      <td>PM2.5</td>\n",
              "      <td>5.0</td>\n",
              "      <td>31</td>\n",
              "      <td>12</td>\n",
              "      <td>22:00</td>\n",
              "    </tr>\n",
              "    <tr>\n",
              "      <th>43799</th>\n",
              "      <td>PM2.5</td>\n",
              "      <td>6.0</td>\n",
              "      <td>31</td>\n",
              "      <td>12</td>\n",
              "      <td>23:00</td>\n",
              "    </tr>\n",
              "  </tbody>\n",
              "</table>\n",
              "<p>43800 rows × 5 columns</p>\n",
              "</div>"
            ],
            "text/plain": [
              "      Species  Value Day Month   Time\n",
              "0          NO    3.5  01    01  00:00\n",
              "1          NO    3.6  01    01  01:00\n",
              "2          NO    2.2  01    01  02:00\n",
              "3          NO    2.1  01    01  03:00\n",
              "4          NO    3.3  01    01  04:00\n",
              "...       ...    ...  ..   ...    ...\n",
              "43795   PM2.5   -2.0  31    12  19:00\n",
              "43796   PM2.5    6.0  31    12  20:00\n",
              "43797   PM2.5    5.0  31    12  21:00\n",
              "43798   PM2.5    5.0  31    12  22:00\n",
              "43799   PM2.5    6.0  31    12  23:00\n",
              "\n",
              "[43800 rows x 5 columns]"
            ]
          },
          "execution_count": 50,
          "metadata": {},
          "output_type": "execute_result"
        }
      ],
      "source": [
        "import pandas as pd\n",
        "air_df = pd.read_csv('LaqnData.csv')\n",
        "air_df.drop(columns=['Site','Units','Provisional or Ratified'], inplace=True)\n",
        "datetime_df = air_df.ReadingDateTime.str.split(' ',expand=True)\n",
        "datetime_df.columns = ['Date','Time']\n",
        "date_df = datetime_df.Date.str.split('/',expand=True)\n",
        "date_df.columns = ['Day','Month','Year']\n",
        "air_df = air_df.join(date_df).join(datetime_df.Time).drop(columns=['ReadingDateTime','Year'])\n",
        "air_df"
      ]
    },
    {
      "cell_type": "code",
      "execution_count": null,
      "metadata": {
        "id": "sZlFYlFZ4RK1"
      },
      "outputs": [],
      "source": []
    },
    {
      "cell_type": "markdown",
      "metadata": {
        "id": "IsopN1Ad4RK1"
      },
      "source": [
        "- Ejecuta el siguiente código, observa su salida y luego estudia el código para responder qué hace esta línea de código.\n",
        "\n"
      ]
    },
    {
      "cell_type": "code",
      "execution_count": null,
      "metadata": {
        "id": "hpjKZ0Vp4RK2",
        "outputId": "1de2a037-35b2-4e8e-aad3-f660ee931207"
      },
      "outputs": [
        {
          "data": {
            "text/html": [
              "<div>\n",
              "<style scoped>\n",
              "    .dataframe tbody tr th:only-of-type {\n",
              "        vertical-align: middle;\n",
              "    }\n",
              "\n",
              "    .dataframe tbody tr th {\n",
              "        vertical-align: top;\n",
              "    }\n",
              "\n",
              "    .dataframe thead th {\n",
              "        text-align: right;\n",
              "    }\n",
              "</style>\n",
              "<table border=\"1\" class=\"dataframe\">\n",
              "  <thead>\n",
              "    <tr style=\"text-align: right;\">\n",
              "      <th></th>\n",
              "      <th></th>\n",
              "      <th></th>\n",
              "      <th></th>\n",
              "      <th>Value</th>\n",
              "    </tr>\n",
              "    <tr>\n",
              "      <th>Month</th>\n",
              "      <th>Day</th>\n",
              "      <th>Time</th>\n",
              "      <th>Species</th>\n",
              "      <th></th>\n",
              "    </tr>\n",
              "  </thead>\n",
              "  <tbody>\n",
              "    <tr>\n",
              "      <th rowspan=\"5\" valign=\"top\">01</th>\n",
              "      <th rowspan=\"5\" valign=\"top\">01</th>\n",
              "      <th>00:00</th>\n",
              "      <th>NO</th>\n",
              "      <td>3.5</td>\n",
              "    </tr>\n",
              "    <tr>\n",
              "      <th>01:00</th>\n",
              "      <th>NO</th>\n",
              "      <td>3.6</td>\n",
              "    </tr>\n",
              "    <tr>\n",
              "      <th>02:00</th>\n",
              "      <th>NO</th>\n",
              "      <td>2.2</td>\n",
              "    </tr>\n",
              "    <tr>\n",
              "      <th>03:00</th>\n",
              "      <th>NO</th>\n",
              "      <td>2.1</td>\n",
              "    </tr>\n",
              "    <tr>\n",
              "      <th>04:00</th>\n",
              "      <th>NO</th>\n",
              "      <td>3.3</td>\n",
              "    </tr>\n",
              "    <tr>\n",
              "      <th>...</th>\n",
              "      <th>...</th>\n",
              "      <th>...</th>\n",
              "      <th>...</th>\n",
              "      <td>...</td>\n",
              "    </tr>\n",
              "    <tr>\n",
              "      <th rowspan=\"5\" valign=\"top\">12</th>\n",
              "      <th rowspan=\"5\" valign=\"top\">31</th>\n",
              "      <th>19:00</th>\n",
              "      <th>PM2.5</th>\n",
              "      <td>-2.0</td>\n",
              "    </tr>\n",
              "    <tr>\n",
              "      <th>20:00</th>\n",
              "      <th>PM2.5</th>\n",
              "      <td>6.0</td>\n",
              "    </tr>\n",
              "    <tr>\n",
              "      <th>21:00</th>\n",
              "      <th>PM2.5</th>\n",
              "      <td>5.0</td>\n",
              "    </tr>\n",
              "    <tr>\n",
              "      <th>22:00</th>\n",
              "      <th>PM2.5</th>\n",
              "      <td>5.0</td>\n",
              "    </tr>\n",
              "    <tr>\n",
              "      <th>23:00</th>\n",
              "      <th>PM2.5</th>\n",
              "      <td>6.0</td>\n",
              "    </tr>\n",
              "  </tbody>\n",
              "</table>\n",
              "<p>43800 rows × 1 columns</p>\n",
              "</div>"
            ],
            "text/plain": [
              "                         Value\n",
              "Month Day Time  Species       \n",
              "01    01  00:00 NO         3.5\n",
              "          01:00 NO         3.6\n",
              "          02:00 NO         2.2\n",
              "          03:00 NO         2.1\n",
              "          04:00 NO         3.3\n",
              "...                        ...\n",
              "12    31  19:00 PM2.5     -2.0\n",
              "          20:00 PM2.5      6.0\n",
              "          21:00 PM2.5      5.0\n",
              "          22:00 PM2.5      5.0\n",
              "          23:00 PM2.5      6.0\n",
              "\n",
              "[43800 rows x 1 columns]"
            ]
          },
          "execution_count": 51,
          "metadata": {},
          "output_type": "execute_result"
        }
      ],
      "source": [
        "air_df = air_df.set_index(['Month','Day','Time','Species'])\n",
        "air_df\n"
      ]
    },
    {
      "cell_type": "code",
      "execution_count": null,
      "metadata": {
        "id": "lOLLRxgG4RK2"
      },
      "outputs": [],
      "source": []
    },
    {
      "cell_type": "markdown",
      "metadata": {
        "id": "Bgofiphj4RK3"
      },
      "source": [
        "- Ejecuta el siguiente código, observa su salida y luego estudia el código para responder qué hace esta línea de código.\n",
        "\n"
      ]
    },
    {
      "cell_type": "code",
      "execution_count": null,
      "metadata": {
        "id": "vvmccAm34RK3",
        "outputId": "d0ce52be-9c54-411c-af9d-d11e3e3cd3b9"
      },
      "outputs": [
        {
          "data": {
            "text/html": [
              "<div>\n",
              "<style scoped>\n",
              "    .dataframe tbody tr th:only-of-type {\n",
              "        vertical-align: middle;\n",
              "    }\n",
              "\n",
              "    .dataframe tbody tr th {\n",
              "        vertical-align: top;\n",
              "    }\n",
              "\n",
              "    .dataframe thead tr th {\n",
              "        text-align: left;\n",
              "    }\n",
              "\n",
              "    .dataframe thead tr:last-of-type th {\n",
              "        text-align: right;\n",
              "    }\n",
              "</style>\n",
              "<table border=\"1\" class=\"dataframe\">\n",
              "  <thead>\n",
              "    <tr>\n",
              "      <th></th>\n",
              "      <th></th>\n",
              "      <th></th>\n",
              "      <th colspan=\"5\" halign=\"left\">Value</th>\n",
              "    </tr>\n",
              "    <tr>\n",
              "      <th></th>\n",
              "      <th></th>\n",
              "      <th>Species</th>\n",
              "      <th>NO</th>\n",
              "      <th>NO2</th>\n",
              "      <th>NOX</th>\n",
              "      <th>PM10</th>\n",
              "      <th>PM2.5</th>\n",
              "    </tr>\n",
              "    <tr>\n",
              "      <th>Month</th>\n",
              "      <th>Day</th>\n",
              "      <th>Time</th>\n",
              "      <th></th>\n",
              "      <th></th>\n",
              "      <th></th>\n",
              "      <th></th>\n",
              "      <th></th>\n",
              "    </tr>\n",
              "  </thead>\n",
              "  <tbody>\n",
              "    <tr>\n",
              "      <th rowspan=\"5\" valign=\"top\">01</th>\n",
              "      <th rowspan=\"5\" valign=\"top\">01</th>\n",
              "      <th>00:00</th>\n",
              "      <td>3.5</td>\n",
              "      <td>30.8</td>\n",
              "      <td>36.2</td>\n",
              "      <td>35.7</td>\n",
              "      <td>NaN</td>\n",
              "    </tr>\n",
              "    <tr>\n",
              "      <th>01:00</th>\n",
              "      <td>3.6</td>\n",
              "      <td>31.5</td>\n",
              "      <td>37.0</td>\n",
              "      <td>28.5</td>\n",
              "      <td>NaN</td>\n",
              "    </tr>\n",
              "    <tr>\n",
              "      <th>02:00</th>\n",
              "      <td>2.2</td>\n",
              "      <td>27.3</td>\n",
              "      <td>30.7</td>\n",
              "      <td>22.7</td>\n",
              "      <td>NaN</td>\n",
              "    </tr>\n",
              "    <tr>\n",
              "      <th>03:00</th>\n",
              "      <td>2.1</td>\n",
              "      <td>23.5</td>\n",
              "      <td>26.8</td>\n",
              "      <td>20.5</td>\n",
              "      <td>NaN</td>\n",
              "    </tr>\n",
              "    <tr>\n",
              "      <th>04:00</th>\n",
              "      <td>3.3</td>\n",
              "      <td>28.0</td>\n",
              "      <td>33.0</td>\n",
              "      <td>22.1</td>\n",
              "      <td>NaN</td>\n",
              "    </tr>\n",
              "    <tr>\n",
              "      <th>...</th>\n",
              "      <th>...</th>\n",
              "      <th>...</th>\n",
              "      <td>...</td>\n",
              "      <td>...</td>\n",
              "      <td>...</td>\n",
              "      <td>...</td>\n",
              "      <td>...</td>\n",
              "    </tr>\n",
              "    <tr>\n",
              "      <th rowspan=\"5\" valign=\"top\">12</th>\n",
              "      <th rowspan=\"5\" valign=\"top\">31</th>\n",
              "      <th>19:00</th>\n",
              "      <td>0.7</td>\n",
              "      <td>17.5</td>\n",
              "      <td>18.5</td>\n",
              "      <td>16.3</td>\n",
              "      <td>-2.0</td>\n",
              "    </tr>\n",
              "    <tr>\n",
              "      <th>20:00</th>\n",
              "      <td>0.7</td>\n",
              "      <td>17.5</td>\n",
              "      <td>18.6</td>\n",
              "      <td>14.5</td>\n",
              "      <td>6.0</td>\n",
              "    </tr>\n",
              "    <tr>\n",
              "      <th>21:00</th>\n",
              "      <td>0.7</td>\n",
              "      <td>14.1</td>\n",
              "      <td>15.1</td>\n",
              "      <td>8.6</td>\n",
              "      <td>5.0</td>\n",
              "    </tr>\n",
              "    <tr>\n",
              "      <th>22:00</th>\n",
              "      <td>1.1</td>\n",
              "      <td>22.0</td>\n",
              "      <td>23.6</td>\n",
              "      <td>12.5</td>\n",
              "      <td>5.0</td>\n",
              "    </tr>\n",
              "    <tr>\n",
              "      <th>23:00</th>\n",
              "      <td>0.9</td>\n",
              "      <td>19.4</td>\n",
              "      <td>20.7</td>\n",
              "      <td>10.4</td>\n",
              "      <td>6.0</td>\n",
              "    </tr>\n",
              "  </tbody>\n",
              "</table>\n",
              "<p>8760 rows × 5 columns</p>\n",
              "</div>"
            ],
            "text/plain": [
              "                Value                        \n",
              "Species            NO   NO2   NOX  PM10 PM2.5\n",
              "Month Day Time                               \n",
              "01    01  00:00   3.5  30.8  36.2  35.7   NaN\n",
              "          01:00   3.6  31.5  37.0  28.5   NaN\n",
              "          02:00   2.2  27.3  30.7  22.7   NaN\n",
              "          03:00   2.1  23.5  26.8  20.5   NaN\n",
              "          04:00   3.3  28.0  33.0  22.1   NaN\n",
              "...               ...   ...   ...   ...   ...\n",
              "12    31  19:00   0.7  17.5  18.5  16.3  -2.0\n",
              "          20:00   0.7  17.5  18.6  14.5   6.0\n",
              "          21:00   0.7  14.1  15.1   8.6   5.0\n",
              "          22:00   1.1  22.0  23.6  12.5   5.0\n",
              "          23:00   0.9  19.4  20.7  10.4   6.0\n",
              "\n",
              "[8760 rows x 5 columns]"
            ]
          },
          "execution_count": 52,
          "metadata": {},
          "output_type": "execute_result"
        }
      ],
      "source": [
        "air_df.unstack()"
      ]
    },
    {
      "cell_type": "code",
      "execution_count": null,
      "metadata": {
        "id": "6J7YafWd4RK4"
      },
      "outputs": [],
      "source": []
    },
    {
      "cell_type": "markdown",
      "metadata": {
        "id": "eB15-Ozq4RK5"
      },
      "source": [
        "- Compara la salida del código anterior con pvt_df del Ejercicio 4. ¿Son básicamente iguales?\n",
        "\n",
        "- Explica cuáles son las diferencias y similitudes entre el par .melt()/.pivot() y el par .stack()/.unstack()?\n",
        "\n",
        "- Si tuvieras que elegir una contraparte para .melt() entre .stack()/.unstack() ¿cuál elegirías?"
      ]
    },
    {
      "cell_type": "code",
      "execution_count": null,
      "metadata": {
        "id": "_U0uqWK84RK5"
      },
      "outputs": [],
      "source": []
    }
  ],
  "metadata": {
    "colab": {
      "provenance": []
    },
    "kernelspec": {
      "display_name": "base",
      "language": "python",
      "name": "python3"
    },
    "language_info": {
      "codemirror_mode": {
        "name": "ipython",
        "version": 3
      },
      "file_extension": ".py",
      "mimetype": "text/x-python",
      "name": "python",
      "nbconvert_exporter": "python",
      "pygments_lexer": "ipython3",
      "version": "3.12.4"
    }
  },
  "nbformat": 4,
  "nbformat_minor": 0
}
